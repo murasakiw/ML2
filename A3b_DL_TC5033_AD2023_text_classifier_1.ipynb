{
  "cells": [
    {
      "cell_type": "markdown",
      "metadata": {
        "id": "view-in-github",
        "colab_type": "text"
      },
      "source": [
        "<a href=\"https://colab.research.google.com/github/murasakiw/ML2/blob/main/A3b_DL_TC5033_AD2023_text_classifier_1.ipynb\" target=\"_parent\"><img src=\"https://colab.research.google.com/assets/colab-badge.svg\" alt=\"Open In Colab\"/></a>"
      ]
    },
    {
      "cell_type": "markdown",
      "id": "940c6dbc",
      "metadata": {
        "id": "940c6dbc"
      },
      "source": [
        "## TC 5033\n",
        "### Word Embeddings\n",
        "\n",
        "<br>\n",
        "\n",
        "#### Activity 3b: Text Classification using RNNs and AG_NEWS dataset in PyTorch\n",
        "<br>\n",
        "\n",
        "### Team 15\n",
        "- Héctor Raúl Vázquez González - A00565542\n",
        "- Ronald David Zuniga Sánchez - A01686240\n",
        "- Sergio Omar Esparza Hernández - A01794338\n",
        "- Hugo Enrique Solano Ortega - A01794456\n",
        "\n",
        "<br>\n",
        "\n",
        "- Objective:\n",
        "    - Understand the basics of Recurrent Neural Networks (RNNs) and their application in text classification.\n",
        "    - Learn how to handle a real-world text dataset, AG_NEWS, in PyTorch.\n",
        "    - Gain hands-on experience in defining, training, and evaluating a text classification model in PyTorch.\n",
        "    \n",
        "<br>\n",
        "\n",
        "- Instructions:\n",
        "    - Data Preparation: Starter code will be provided that loads the AG_NEWS dataset and prepares it for training. Do not modify this part. However, you should be sure to understand it, and comment it, the use of markdown cells is suggested.\n",
        "\n",
        "    - Model Setup: A skeleton code for the RNN model class will be provided. Complete this class and use it to instantiate your model.\n",
        "\n",
        "    - Implementing Accuracy Function: Write a function that takes model predictions and ground truth labels as input and returns the model's accuracy.\n",
        "\n",
        "    - Training Function: Implement a function that performs training on the given model using the AG_NEWS dataset. Your model should achieve an accuracy of at least 80% to get full marks for this part.\n",
        "\n",
        "    - Text Sampling: Write a function that takes a sample text as input and classifies it using your trained model.\n",
        "\n",
        "    - Confusion Matrix: Implement a function to display the confusion matrix for your model on the test data.\n",
        "\n",
        "    - Submission: Submit your completed Jupyter Notebook. Make sure to include a markdown cell at the beginning of the notebook that lists the names of all team members. Teams should consist of 3 to 4 members.\n",
        "    \n",
        "<br>\n",
        "\n",
        "- Evaluation Criteria:\n",
        "\n",
        "    - Correct setup of all the required libraries and modules (10%)\n",
        "    - Code Quality (30%): Your code should be well-organized, clearly commented, and easy to follow. Use also markdown cells for clarity. Comments should be given for all the provided code, this will help you understand its functionality.\n",
        "    \n",
        "   - Functionality (60%):\n",
        "        - All the functions should execute without errors and provide the expected outputs.\n",
        "        - RNN model class (20%)\n",
        "        - Accuracy fucntion (10%)\n",
        "        - Training function (10%)\n",
        "        - Sampling function (10%)\n",
        "        - Confucion matrix (10%)\n",
        "\n",
        "        - The model should achieve at least an 80% accuracy on the AG_NEWS test set for full marks in this criterion.\n"
      ]
    },
    {
      "cell_type": "markdown",
      "id": "4de318da",
      "metadata": {
        "id": "4de318da"
      },
      "source": [
        "Dataset\n",
        "\n",
        "https://pytorch.org/text/stable/datasets.html#text-classification\n",
        "\n",
        "https://paperswithcode.com/dataset/ag-news\n"
      ]
    },
    {
      "cell_type": "markdown",
      "id": "4a9801f9",
      "metadata": {
        "id": "4a9801f9"
      },
      "source": [
        "### Import libraries"
      ]
    },
    {
      "cell_type": "code",
      "execution_count": null,
      "id": "878b524f",
      "metadata": {
        "id": "878b524f"
      },
      "outputs": [],
      "source": [
        "# The following libraries are required for running the given code\n",
        "# Please feel free to add any libraries you consider adecuate to complete the assingment.\n",
        "import numpy as np\n",
        "#PyTorch libraries\n",
        "import torch\n",
        "from torchtext.datasets import AG_NEWS\n",
        "# Dataloader library\n",
        "from torch.utils.data import DataLoader\n",
        "from torch.utils.data.dataset import random_split\n",
        "# Libraries to prepare the data\n",
        "from torchtext.data.utils import get_tokenizer\n",
        "from torchtext.vocab import build_vocab_from_iterator\n",
        "from torchtext.data.functional import to_map_style_dataset\n",
        "# neural layers\n",
        "from torch import nn\n",
        "from torch.nn import functional as F\n",
        "\n",
        "# Libraries to compute the confusion matrix and plot it\n",
        "import matplotlib.pyplot as plt\n",
        "from sklearn.metrics import confusion_matrix\n",
        "import seaborn as sns\n"
      ]
    },
    {
      "cell_type": "code",
      "execution_count": null,
      "id": "3bab55f3",
      "metadata": {
        "id": "3bab55f3",
        "outputId": "5bff6f3c-c825-4819-ba2f-8e9305b9bbb0"
      },
      "outputs": [
        {
          "name": "stdout",
          "output_type": "stream",
          "text": [
            "cuda\n"
          ]
        }
      ],
      "source": [
        "# Use GPU if available\n",
        "device = torch.device(\"cuda\" if torch.cuda.is_available() else \"cpu\") #Define the type of device that will be used to train the model\n",
        "print(device) #Print the type of device available"
      ]
    },
    {
      "cell_type": "markdown",
      "id": "3d38956d",
      "metadata": {
        "id": "3d38956d"
      },
      "source": [
        "### Get the train and the test datasets and dataloaders"
      ]
    },
    {
      "cell_type": "markdown",
      "id": "e9c6b784",
      "metadata": {
        "id": "e9c6b784"
      },
      "source": [
        "Classes:\n",
        "\n",
        "* 1 - World\n",
        "\n",
        "* 2 - Sports\n",
        "\n",
        "* 3 - Business\n",
        "\n",
        "* 4 - Sci/Tech\n",
        "\n",
        "We will convert them to:\n",
        "\n",
        "* 0 - World\n",
        "\n",
        "* 1 - Sports\n",
        "\n",
        "* 2 - Business\n",
        "\n",
        "* 3 - Sci/Tech"
      ]
    },
    {
      "cell_type": "code",
      "execution_count": null,
      "id": "49fbed19",
      "metadata": {
        "id": "49fbed19"
      },
      "outputs": [],
      "source": [
        "train_dataset, test_dataset = AG_NEWS()\n",
        "train_dataset, test_dataset = to_map_style_dataset(train_dataset), to_map_style_dataset(test_dataset)"
      ]
    },
    {
      "cell_type": "code",
      "execution_count": null,
      "id": "9c372eb9",
      "metadata": {
        "id": "9c372eb9"
      },
      "outputs": [],
      "source": [
        "# Get the tokeniser\n",
        "# tokeniser object\n",
        "tokeniser = get_tokenizer('basic_english')\n",
        "\n",
        "def yield_tokens(data):\n",
        "    for _, text in data:\n",
        "        yield tokeniser(text)"
      ]
    },
    {
      "cell_type": "code",
      "execution_count": null,
      "id": "794d0375",
      "metadata": {
        "id": "794d0375"
      },
      "outputs": [],
      "source": [
        "# Build the vocabulary\n",
        "vocab = build_vocab_from_iterator(yield_tokens(train_dataset), specials=[\"<unk>\"])\n",
        "#set unknown token at position 0\n",
        "vocab.set_default_index(vocab[\"<unk>\"])"
      ]
    },
    {
      "cell_type": "code",
      "execution_count": null,
      "id": "b48268d4",
      "metadata": {
        "id": "b48268d4",
        "outputId": "bc74520e-1eea-43f0-f2b4-10a44d78b22b"
      },
      "outputs": [
        {
          "name": "stdout",
          "output_type": "stream",
          "text": [
            "['welcome', 'to', 'te3007'] [3314, 4, 0]\n"
          ]
        }
      ],
      "source": [
        "#test tokens\n",
        "tokens = tokeniser('Welcome to TE3007') #Obtain tokens from text\n",
        "print(tokens, vocab(tokens))"
      ]
    },
    {
      "cell_type": "code",
      "execution_count": null,
      "id": "c8c8f6a6",
      "metadata": {
        "id": "c8c8f6a6"
      },
      "outputs": [],
      "source": [
        "NUM_TRAIN = int(len(train_dataset)*0.9)\n",
        "NUM_VAL = len(train_dataset) - NUM_TRAIN"
      ]
    },
    {
      "cell_type": "code",
      "execution_count": null,
      "id": "8290895e",
      "metadata": {
        "id": "8290895e"
      },
      "outputs": [],
      "source": [
        "train_dataset, val_dataset = random_split(train_dataset, [NUM_TRAIN, NUM_VAL]) #Split the training data set into two sets, one of them will be used for training and the other one for validation"
      ]
    },
    {
      "cell_type": "code",
      "execution_count": null,
      "id": "cbc75b54",
      "metadata": {
        "id": "cbc75b54",
        "outputId": "98ce1cbf-ce9a-4f1a-f07a-2fb013f9ce28"
      },
      "outputs": [
        {
          "name": "stdout",
          "output_type": "stream",
          "text": [
            "108000 12000 7600\n"
          ]
        }
      ],
      "source": [
        "#Print the total data for each data set\n",
        "print(len(train_dataset), len(val_dataset), len(test_dataset))"
      ]
    },
    {
      "cell_type": "code",
      "execution_count": null,
      "id": "ffdbf077",
      "metadata": {
        "id": "ffdbf077"
      },
      "outputs": [],
      "source": [
        "# function passed to the DataLoader to process a batch of data as indicated\n",
        "def collate_batch(batch):\n",
        "    # Get label and text\n",
        "    y, x = list(zip(*batch))\n",
        "\n",
        "    # Create list with indices from tokeniser\n",
        "    x = [vocab(tokeniser(text)) for text in x]\n",
        "    x = [t + ([0]*(max_tokens - len(t))) if len(t) < max_tokens else t[:max_tokens] for t in x]\n",
        "\n",
        "    # Prepare the labels, by subtracting 1 to get them in the range 0-3\n",
        "    return torch.tensor(x, dtype=torch.int32), torch.tensor(y, dtype=torch.int32) - 1"
      ]
    },
    {
      "cell_type": "code",
      "execution_count": null,
      "id": "5eb459c7",
      "metadata": {
        "id": "5eb459c7"
      },
      "outputs": [],
      "source": [
        "labels =  [\"World\", \"Sports\", \"Business\", \"Sci/Tech\"]\n",
        "max_tokens = 50\n",
        "BATCH_SIZE = 256"
      ]
    },
    {
      "cell_type": "code",
      "execution_count": null,
      "id": "0a55e6ee",
      "metadata": {
        "id": "0a55e6ee"
      },
      "outputs": [],
      "source": [
        "#Define dataloaders for each set of data\n",
        "train_loader = DataLoader(train_dataset, batch_size=BATCH_SIZE, collate_fn=collate_batch, shuffle = True)\n",
        "val_loader = DataLoader(val_dataset, batch_size=BATCH_SIZE, collate_fn=collate_batch, shuffle = True)\n",
        "test_loader = DataLoader(test_dataset, batch_size=BATCH_SIZE, collate_fn=collate_batch, shuffle = True)"
      ]
    },
    {
      "cell_type": "markdown",
      "id": "47b98898",
      "metadata": {
        "id": "47b98898"
      },
      "source": [
        "### Let us build our RNN model"
      ]
    },
    {
      "cell_type": "code",
      "execution_count": null,
      "id": "50f20793",
      "metadata": {
        "id": "50f20793"
      },
      "outputs": [],
      "source": [
        "EMBEDDING_SIZE = 300\n",
        "NEURONS = 256 #Number of neurons of the recurrent network\n",
        "LAYERS = 2 #Number of layers in the recurrent network\n",
        "NUM_CLASSES = 4 #Number of categories"
      ]
    },
    {
      "cell_type": "markdown",
      "source": [
        "In this section we create the class that will contain all the layers of the model, and the function to compute the forward pass of the network. This model is made of three layers. The first layer is a embedding layer that is a lookup table that stores word embeddings and retrieve them using indices, so, this layer builds a dictionary using the elements in the vocab object and the size of the dictionary will have a size according to the number of elements in the the vocab object. In this layer it's also important to define the number of elements of each embedding vector."
      ],
      "metadata": {
        "id": "lAtQc142uRtX"
      },
      "id": "lAtQc142uRtX"
    },
    {
      "cell_type": "code",
      "execution_count": null,
      "id": "0f7f5621",
      "metadata": {
        "id": "0f7f5621"
      },
      "outputs": [],
      "source": [
        "class RNN_Model_1(nn.Module): #Define the class considering a Recurrent Neural Network\n",
        "    def __init__(self, embed_size, hidden, layers, num_classes):\n",
        "        super().__init__()\n",
        "        self.embedding_layer = nn.Embedding(num_embeddings=len(vocab),\n",
        "                                            embedding_dim=embed_size)\n",
        "        # Parameters of the recurrent layer\n",
        "        self.rnn = nn.RNN(input_size=embed_size,\n",
        "                          hidden_size = hidden, #Number of neurons in the layer\n",
        "                          num_layers = layers,  #Number of hidden layers\n",
        "                          bidirectional = False,\n",
        "                          batch_first=True)\n",
        "                        # You may use PyTorch nn.GRU(), nn.RNN(), or nn.LSTM()\n",
        "        # Complete output classifier layer using linear layer\n",
        "        self.fc = nn.Linear(in_features=hidden, #Input is the number of layers in the recurrent layer\n",
        "                            out_features=num_classes) #Output is the number of categories [0,1,2,3]\n",
        "\n",
        "    def forward(self, x): #Define the forward pass\n",
        "        y, h = self.rnn(self.embedding_layer(x)) #Forward pass to obtain the outputs of the recurrent layer\n",
        "        return self.fc(y[:,-1]) #Return the output of the fully connected layer. We only need the last element of y\n",
        "        # implement forward pass. This function will be called when executing the model"
      ]
    },
    {
      "cell_type": "code",
      "execution_count": null,
      "metadata": {
        "id": "8r7V-CXvJVZP"
      },
      "outputs": [],
      "source": [
        "class GRU_Model_1(nn.Module): #Define the class considering a Gated Recurrent Unit\n",
        "    def __init__(self, embed_size, hidden, layers, num_classes):\n",
        "        super().__init__()\n",
        "        self.embedding_layer = nn.Embedding(num_embeddings=len(vocab),\n",
        "                                            embedding_dim=embed_size)\n",
        "        # Parameters of the model\n",
        "        self.rnn = nn.GRU(input_size=embed_size,\n",
        "                          hidden_size = hidden, #Number of neurons in the layer\n",
        "                          num_layers = layers, #Number of hidden layers\n",
        "                          bidirectional = False,\n",
        "                          batch_first=True,\n",
        "                          dropout=0.5) #Dropout to minimize overfitting\n",
        "        # Complete output classifier layer using linear layer\n",
        "        self.fc = nn.Linear(in_features=hidden, #Input is the number of layers in the recurrent layer\n",
        "                            out_features=num_classes) #Output is the number of categories [0,1,2,3]\n",
        "\n",
        "    def forward(self, x): #Define the forward pass\n",
        "        y, h = self.rnn(self.embedding_layer(x)) #Forward pass to obtain the outputs of the recurrent layer\n",
        "        return self.fc(y[:,-1]) #Return the output of the fully connected layer. We only need the last element of y\n",
        "        # implement forward pass. This function will be called when executing the model"
      ],
      "id": "8r7V-CXvJVZP"
    },
    {
      "cell_type": "code",
      "execution_count": null,
      "id": "3dad132c",
      "metadata": {
        "id": "3dad132c",
        "outputId": "e363f25f-b5d4-4e1d-96e6-a9a62dc96d45"
      },
      "outputs": [
        {
          "data": {
            "text/plain": [
              "RNN_Model_1(\n",
              "  (embedding_layer): Embedding(95811, 300)\n",
              "  (rnn): RNN(300, 256, num_layers=2, batch_first=True)\n",
              "  (fc): Linear(in_features=256, out_features=4, bias=True)\n",
              ")"
            ]
          },
          "execution_count": 35,
          "metadata": {},
          "output_type": "execute_result"
        }
      ],
      "source": [
        "#Instantiate the model\n",
        "rnn_model = RNN_Model_1(EMBEDDING_SIZE, NEURONS, LAYERS, NUM_CLASSES) #Using the rnn model\n",
        "rnn_model #Display parameters of the model"
      ]
    },
    {
      "cell_type": "code",
      "execution_count": null,
      "metadata": {
        "id": "Deu09XujJVZP",
        "outputId": "abbb6ff5-4f57-4b40-a3ac-362a9bd04364"
      },
      "outputs": [
        {
          "data": {
            "text/plain": [
              "GRU_Model_1(\n",
              "  (embedding_layer): Embedding(95811, 300)\n",
              "  (rnn): GRU(300, 256, num_layers=2, batch_first=True, dropout=0.5)\n",
              "  (fc): Linear(in_features=256, out_features=4, bias=True)\n",
              ")"
            ]
          },
          "execution_count": 17,
          "metadata": {},
          "output_type": "execute_result"
        }
      ],
      "source": [
        "#Instantiate the model\n",
        "gru_model = GRU_Model_1(EMBEDDING_SIZE, NEURONS, LAYERS, NUM_CLASSES) #Using the gru model\n",
        "gru_model #Display parameters of the model"
      ],
      "id": "Deu09XujJVZP"
    },
    {
      "cell_type": "code",
      "execution_count": null,
      "id": "2a42613f",
      "metadata": {
        "code_folding": [],
        "id": "2a42613f"
      },
      "outputs": [],
      "source": [
        "def accuracy(model, loader): #Function to calculate accuracy\n",
        "    model.eval() #Set the model to evaluation mode\n",
        "    model = model.to(device=device) #Set the device to GPU\n",
        "    correct_samples = 0 #Variable to store the number of correct predictions\n",
        "    total_samples = 0 #Variable to store the number of total samples\n",
        "    with torch.no_grad():\n",
        "        for xi, yi in loader: #Loop through the data loader to obtain mini batches\n",
        "            xi = xi.to(device=device, dtype = torch.long ) #Input data as torch tensors using GPU\n",
        "            yi = yi.to(device=device, dtype = torch.long) #Labels as torch tensors using GPU\n",
        "            scores = model(xi) #Obtain the ouput of the model\n",
        "            correct_samples += (torch.argmax(scores, dim=1) == yi.squeeze()).sum() #Sum the total of correct samples of the minibatch and add the result to the variable\n",
        "            total_samples += scores.size(0) #Obtain the total samples of the batch and add the result to the variable\n",
        "    accuracy_value = float(correct_samples)/total_samples #Calculate the accuracy\n",
        "    return accuracy_value"
      ]
    },
    {
      "cell_type": "markdown",
      "source": [
        "In this section we define a function to train the model, the function takes 3 parameters, the model object, the optimiser object and the number of epochs for which the model will be trained. We describe all the steps we followed to train the model with comments in the next code block. We used two lists to store the validation and train accuracies in order to plot them and to visualize the degree of overfitting in the model. In the last step, we calculate the validation and train accuracies and we define a condition to plot the results every 5 epochs and the result of the final iteration."
      ],
      "metadata": {
        "id": "1C3Ke2tGszLC"
      },
      "id": "1C3Ke2tGszLC"
    },
    {
      "cell_type": "code",
      "execution_count": null,
      "id": "5e843e1f",
      "metadata": {
        "code_folding": [],
        "id": "5e843e1f"
      },
      "outputs": [],
      "source": [
        "def train(model, optimiser, epochs=100): #Function to train the model\n",
        "    model = model.to(device=device) #Set the device to GPU\n",
        "    train_accuracies = list() #Define list to store the training accuracies\n",
        "    val_accuracies = list() #Define list to store the validation accuracies\n",
        "    train_cost = 0\n",
        "    val_cost = 0\n",
        "    for epoch in range(epochs): #Iterate the number of epochs to train the model\n",
        "        model.train() #Set the model to training mode\n",
        "        train_correct_samples = 0 #Variable to store the number of correct predictions\n",
        "        train_total = 0 #Variable to store the number of total predictions\n",
        "        train_cost_acum = 0\n",
        "        for xi, yi in train_loader: #Loop through the data loader to obtain mini batches\n",
        "\n",
        "            xi = xi.to(device=device, dtype = torch.long) #Input data as torch tensors using GPU\n",
        "            yi = yi.to(device=device, dtype = torch.long) #Labels as torch tensors using GPU\n",
        "\n",
        "            scores = model(xi) #Obtain the ouput of the model\n",
        "            cost = F.cross_entropy(input=scores, target=yi) #Apply the cross_entropy function to calculate the cost\n",
        "            optimiser.zero_grad() #Reset gradients to zero in order to not accumulate it\n",
        "            cost.backward() #Calculate gradients with respect to all parameters of the model\n",
        "            optimiser.step() #Update parameters considering the defined optimiser\n",
        "\n",
        "            train_correct_samples += (torch.argmax(scores, dim=1) == yi.squeeze()).sum() #Sum the total of correct samples of the minibatch and add the result to the variable\n",
        "            train_total += scores.size(0) #Obtain the total samples of the batch and add the result to the variable\n",
        "        #Obtain the training and validation accuracies\n",
        "        train_acc = float(train_correct_samples)/train_total\n",
        "        val_acc = accuracy(model, val_loader)\n",
        "        #Append the training and validation accuracies to each list\n",
        "        train_accuracies.append(train_acc)\n",
        "        val_accuracies.append(val_acc)\n",
        "        if epoch%5 == 0 or epoch == 20: #If statement to plot the results every 5 epochs and the final result\n",
        "            print(f'Epoch: {epoch}, Train Accuracy: {train_acc:.4f}, Validation Accuracy: {val_acc:.4f}')\n",
        "    return train_accuracies, val_accuracies #Return lists with accuracies for each epoch"
      ]
    },
    {
      "cell_type": "code",
      "execution_count": null,
      "id": "87775b29",
      "metadata": {
        "id": "87775b29"
      },
      "outputs": [],
      "source": [
        "epochs = 20 #Set the number of epochs\n",
        "lr = 0.001 #Set the learning rate\n",
        "# instantiate model\n",
        "rnn_model = RNN_Model_1(EMBEDDING_SIZE, NEURONS, LAYERS, NUM_CLASSES) #Instantiate the model using the rnn class\n",
        "optimiser_rnn = torch.optim.Adam(rnn_model.parameters(), lr=lr) #Optimiser to minimize cost function\n"
      ]
    },
    {
      "cell_type": "code",
      "execution_count": null,
      "metadata": {
        "id": "r5BL773ZJVZP"
      },
      "outputs": [],
      "source": [
        "epochs = 20 #Set the number of epochs\n",
        "lr = 0.001 #Set the learning rate\n",
        "# instantiate model\n",
        "gru_model = GRU_Model_1(EMBEDDING_SIZE, NEURONS, LAYERS, NUM_CLASSES) #Instantiate the model using the gru class\n",
        "optimiser_gru = torch.optim.Adam(gru_model.parameters(), lr=lr, weight_decay=1e-4) #Optimiser to minimize cost function"
      ],
      "id": "r5BL773ZJVZP"
    },
    {
      "cell_type": "code",
      "execution_count": null,
      "metadata": {
        "id": "UeBcwrObJVZP",
        "outputId": "a37150a6-d369-4789-ebf4-bda272e701bf"
      },
      "outputs": [
        {
          "name": "stdout",
          "output_type": "stream",
          "text": [
            "Epoch: 0, Train Accuracy: 0.2878, Validation Accuracy: 0.2964\n",
            "Epoch: 5, Train Accuracy: 0.4863, Validation Accuracy: 0.4798\n",
            "Epoch: 10, Train Accuracy: 0.4713, Validation Accuracy: 0.4899\n",
            "Epoch: 15, Train Accuracy: 0.6114, Validation Accuracy: 0.6154\n"
          ]
        }
      ],
      "source": [
        "#Train the model and obtaining list with training and validation accuracies stored in them\n",
        "train_accuracies_rnn, val_accuracies_rnn = train(rnn_model, optimiser=optimiser_rnn, epochs=epochs)"
      ],
      "id": "UeBcwrObJVZP"
    },
    {
      "cell_type": "code",
      "execution_count": null,
      "id": "aec12a1b",
      "metadata": {
        "scrolled": true,
        "id": "aec12a1b",
        "outputId": "cfc14e6b-bc81-4533-95a8-b1a60a69531a"
      },
      "outputs": [
        {
          "name": "stdout",
          "output_type": "stream",
          "text": [
            "Epoch: 0, Train Accuracy: 0.7334, Validation Accuracy: 0.8819\n",
            "Epoch: 5, Train Accuracy: 0.9359, Validation Accuracy: 0.9153\n",
            "Epoch: 10, Train Accuracy: 0.9587, Validation Accuracy: 0.9189\n",
            "Epoch: 15, Train Accuracy: 0.9729, Validation Accuracy: 0.9186\n"
          ]
        }
      ],
      "source": [
        "#Train the model and obtaining list with training and validation accuracies stored in them\n",
        "train_accuracies_gru, val_accuracies_gru = train(gru_model, optimiser=optimiser_gru, epochs=epochs)"
      ]
    },
    {
      "cell_type": "markdown",
      "source": [
        "In this section we wrote some code to plot the validation and train accuracies obtained during training for every epoch and for each one of the models we defined previously. First we show the results for the RNN model and then we show the results for the GRU model."
      ],
      "metadata": {
        "id": "dA3k2SN0vpC-"
      },
      "id": "dA3k2SN0vpC-"
    },
    {
      "cell_type": "code",
      "execution_count": null,
      "metadata": {
        "id": "fJokbd9kJVZP",
        "outputId": "79feaaac-7054-4ec5-9d41-c807b6228d4b"
      },
      "outputs": [
        {
          "data": {
            "image/png": "[encoded data removed]",
            "text/plain": [
              "<Figure size 640x480 with 1 Axes>"
            ]
          },
          "metadata": {},
          "output_type": "display_data"
        }
      ],
      "source": [
        "#Plot the accuracies for each epoch\n",
        "fig, ax = plt.subplots()\n",
        "ax.plot(train_accuracies_rnn, marker = 'o', linestyle='-', label='Training')#Plot training accuracies\n",
        "ax.plot(val_accuracies_rnn, marker = 'o', linestyle='-', label='Validation')#Plot validation accuracies\n",
        "ax.legend()\n",
        "ax.set_xlabel('Epoch')\n",
        "ax.set_ylabel('Accuracy')\n",
        "plt.show()\n"
      ],
      "id": "fJokbd9kJVZP"
    },
    {
      "cell_type": "code",
      "execution_count": null,
      "metadata": {
        "id": "aBbODghQJVZP",
        "outputId": "bcb8b151-703e-425e-f36f-e1cd7fd36fed"
      },
      "outputs": [
        {
          "data": {
            "image/png": "[encoded data removed]",
            "text/plain": [
              "<Figure size 640x480 with 1 Axes>"
            ]
          },
          "metadata": {},
          "output_type": "display_data"
        }
      ],
      "source": [
        "#Plot the accuracies for each epoch\n",
        "fig, ax = plt.subplots()\n",
        "ax.plot(train_accuracies_gru, marker = 'o', linestyle='-', label='Training')#Plot training accuracies\n",
        "ax.plot(val_accuracies_gru, marker = 'o', linestyle='-', label='Validation')#Plot validation accuracies\n",
        "ax.legend()\n",
        "ax.set_xlabel('Epoch')\n",
        "ax.set_ylabel('Accuracy')\n",
        "plt.show()"
      ],
      "id": "aBbODghQJVZP"
    },
    {
      "cell_type": "code",
      "execution_count": null,
      "id": "7a3ef175",
      "metadata": {
        "id": "7a3ef175",
        "outputId": "f097c0a7-9233-47fa-9b60-3f6545ae695f"
      },
      "outputs": [
        {
          "name": "stdout",
          "output_type": "stream",
          "text": [
            "The accuracy of the RNN model using test data: 0.6589\n",
            "The accuracy of the GRU model using test data: 0.9129\n"
          ]
        }
      ],
      "source": [
        "print(f'The accuracy of the RNN model using test data: {accuracy(rnn_model, test_loader):.4f}')\n",
        "print(f'The accuracy of the GRU model using test data: {accuracy(gru_model, test_loader):.4f}')"
      ]
    },
    {
      "cell_type": "markdown",
      "source": [
        "### Testing the model\n",
        "---"
      ],
      "metadata": {
        "id": "uTCJ8nICKIMs"
      },
      "id": "uTCJ8nICKIMs"
    },
    {
      "cell_type": "markdown",
      "source": [
        "In this section we obtain a prediction using the trained model for a random entry in the test data set. We also used a text we took from a news web page to test the model using from a current news story. We did this just to get an idea of how the model will respond  to data generated from a source that was not used for training the model and which corresponds to more recent events."
      ],
      "metadata": {
        "id": "OwHIFK2sJaeZ"
      },
      "id": "OwHIFK2sJaeZ"
    },
    {
      "cell_type": "markdown",
      "source": [
        "\n",
        "The \"sample_text\" function takes a random entry from the test set and returns the prediction made by the model."
      ],
      "metadata": {
        "id": "RRctXLHlKyc0"
      },
      "id": "RRctXLHlKyc0"
    },
    {
      "cell_type": "code",
      "execution_count": null,
      "id": "ed30693d",
      "metadata": {
        "id": "ed30693d"
      },
      "outputs": [],
      "source": [
        "def sample_text(model, loader):#Function to print the output of the model for a random text data\n",
        "    labels_dict = {0:'World', 1:'Sports', 2:'Business', 3:'Sci/Tech'}\n",
        "    random_index = np.random.randint(0, len(loader.dataset)) #Obtain random index to display a sample text\n",
        "    y_true = loader.dataset[random_index][0] - 1 #Obtain the actual category of the sample minus 1 because the output categories of the model are 0,1,2,3\n",
        "    x = loader.dataset[random_index][1] #Obtain the sample text\n",
        "    tokens = tokeniser(x) #Obtain tokens list\n",
        "    input = vocab(tokens) #Obtain data to feed the model\n",
        "    model.eval() #Set the model to eval mode\n",
        "    xi = torch.tensor(input) #Convert input data to torch tensor\n",
        "    xi = xi.reshape(1,-1) #Reshape according to model input dimensions\n",
        "    xi = xi.to(device=device, dtype = torch.long)\n",
        "    scores = model(xi) #Obtain the scores by using the input data\n",
        "    _, pred = scores.max(dim=1) #Obtain the predicted value\n",
        "    y_pred = np.array(pred.cpu())[0] #Convert to numpy array an obtaining the first element which corresponds to the predicted category\n",
        "    print(f'The sample text:\\n{x}') #Print the sample text\n",
        "    print(f'The category predicted by the model: {labels_dict[y_pred]}\\nThe actual category: {labels_dict[y_true]}') #Print the predicted and the actual category"
      ]
    },
    {
      "cell_type": "markdown",
      "source": [
        "The \"sample_text_1\" function takes a text obtained from a news website and it returns the prediction."
      ],
      "metadata": {
        "id": "iyq-U7kmKuxn"
      },
      "id": "iyq-U7kmKuxn"
    },
    {
      "cell_type": "code",
      "execution_count": null,
      "metadata": {
        "id": "6l7IJdpTJVZQ"
      },
      "outputs": [],
      "source": [
        "def sample_text_1(model, text, category):#Function to print the output of the model for a given text data\n",
        "    labels_dict = {0:'World', 1:'Sports', 2:'Business', 3:'Sci/Tech'} #Dictionary to assign numbers to labels\n",
        "    x = text #Obtain the sample text\n",
        "    tokens = tokeniser(x) #Obtain tokens list\n",
        "    input = vocab(tokens) #Obtain data to feed the model\n",
        "    model.eval() #Set the model to eval mode\n",
        "    xi = torch.tensor(input) #Convert input data to torch tensor\n",
        "    xi = xi.reshape(1,-1) #Reshape according to model input dimensions\n",
        "    xi = xi.to(device=device, dtype = torch.long)\n",
        "    scores = model(xi) #Obtain the scores by using the input data\n",
        "    _, pred = scores.max(dim=1) #Obtain the predicted value\n",
        "    y_pred = np.array(pred.cpu())[0] #Convert to numpy array an obtaining the first element which corresponds to the predicted category\n",
        "    print(f'The sample text:\\n{x}') #Print the sample text\n",
        "    print(f'The category predicted by the model: {labels_dict[y_pred]}\\nThe actual category: {category}') #Print the predicted and the actual category"
      ],
      "id": "6l7IJdpTJVZQ"
    },
    {
      "cell_type": "code",
      "execution_count": null,
      "id": "534f0220",
      "metadata": {
        "id": "534f0220",
        "outputId": "3ced0872-f63d-40f9-94f2-c1901a578fbc"
      },
      "outputs": [
        {
          "name": "stdout",
          "output_type": "stream",
          "text": [
            "The sample text:\n",
            "Microsoft probing reported flaws in Windows XP SP2 NOVEMBER 12, 2004 (COMPUTERWORLD) - Microsoft Corp. yesterday said it is investigating claims that several new vulnerabilities have been found in Windows XP Service Pack 2 by security firm Finjan Software Inc.\n",
            "The category predicted by the model: Sci/Tech\n",
            "The actual category: Sci/Tech\n"
          ]
        }
      ],
      "source": [
        "sample_text(gru_model, test_loader) #Run the function"
      ]
    },
    {
      "cell_type": "code",
      "execution_count": null,
      "metadata": {
        "id": "e2xzy0NOJVZQ",
        "outputId": "c6417c6b-d268-491d-8dd2-2b88cf789b7f"
      },
      "outputs": [
        {
          "name": "stdout",
          "output_type": "stream",
          "text": [
            "The sample text:\n",
            "Israel admits attacking an ambulance in Gaza with the justification that it was used by Hamas\n",
            "The category predicted by the model: World\n",
            "The actual category: World\n"
          ]
        }
      ],
      "source": [
        "text = \"Israel admits attacking an ambulance in Gaza with the justification that it was used by Hamas\"\n",
        "sample_text_1(gru_model, text, \"World\") #Run the function to classify a given text"
      ],
      "id": "e2xzy0NOJVZQ"
    },
    {
      "cell_type": "code",
      "execution_count": null,
      "metadata": {
        "id": "2RvcCShuJVZQ",
        "outputId": "e925aa7e-25ef-4815-b9ae-2f78f8b5360f"
      },
      "outputs": [
        {
          "name": "stdout",
          "output_type": "stream",
          "text": [
            "The sample text:\n",
            "He’s going to create his own lane’: Victor Wembanyama drops 38 points in Spurs win over the Phoenix Suns\n",
            "The category predicted by the model: Sports\n",
            "The actual category: Sports\n"
          ]
        }
      ],
      "source": [
        "text = \"He’s going to create his own lane’: Victor Wembanyama drops 38 points in Spurs win over the Phoenix Suns\"\n",
        "sample_text_1(gru_model, text, \"Sports\") #Run the function to classify a given text"
      ],
      "id": "2RvcCShuJVZQ"
    },
    {
      "cell_type": "markdown",
      "source": [
        "Finally, the last section it's about defining a function to create the confusion matrix of the model. In this case we used the scikitlearn confusion matrix function to calculate it. Then, the seaborn library was used for plotting the confusion matrix. Inside this function we wrote the code necessary to obtain the predicted values for all input elements in the data set. The function receives the model as a parameter, which is set to evaluation mode, then, the trained model is used to obtain the predicted values and finally, they are stored in a list. We also store the true output values in a list so we can use those lists to run the function to calculate the confusion matrix. Using the seaborn library we set the plot to show the results using an appropiate color map to observe the correct and incorrect predictions. We also set the labels for each axis to see more clearly which category the results correspond to."
      ],
      "metadata": {
        "id": "6wFE0GysLISp"
      },
      "id": "6wFE0GysLISp"
    },
    {
      "cell_type": "code",
      "execution_count": null,
      "id": "bb38e093",
      "metadata": {
        "id": "bb38e093"
      },
      "outputs": [],
      "source": [
        "# create confusion matrix\n",
        "def plot_cm(model, loader):\n",
        "    model.eval() #Set the model to evaluate mode\n",
        "    y_true = list() #Define list to store the actual categories\n",
        "    y_pred = list() #Define list to store the predicted categories by the model\n",
        "    with torch.no_grad():\n",
        "        for xi, yi in loader: #Loop through the data loader to obtain minibatches\n",
        "            xi = xi.to(device=device, dtype = torch.long) #Input data as torch tensors using GPU\n",
        "            yi = yi.to(device=device, dtype = torch.long) #Labels as torch tensors using GPU\n",
        "            scores = model(xi) #Obtain the ouput of the model\n",
        "            _, pred = scores.max(dim=1) #Obtain the predicted values\n",
        "            predicted_vals = np.array(pred.cpu()) #Obtain the predicted values as numpy array\n",
        "            labels = np.array(yi.cpu()) #Obtain the actual values as numpy array\n",
        "            y_pred += list(predicted_vals) #Store data in the list\n",
        "            y_true += list(labels) #Store data in the list\n",
        "    labels_names = ['World', 'Sports', 'Business', 'Sci/Tech'] #Labels of each category\n",
        "    cm = confusion_matrix(y_true, y_pred) #Obtain confusion matrix using scikitlearn\n",
        "    ax = sns.heatmap(cm, cmap='coolwarm', cbar=False, fmt='', annot=True) #Plot the confusion matrix with seaborn\n",
        "    ax.set(ylabel='y true labels', xlabel='y predicted labels', xticklabels = labels_names, yticklabels = labels_names) #Settings for the plot\n",
        "    plt.show()"
      ]
    },
    {
      "cell_type": "code",
      "execution_count": null,
      "id": "e7d73f69",
      "metadata": {
        "id": "e7d73f69",
        "outputId": "02f810ca-074e-4a1d-bd71-cde7ae8e5ee8"
      },
      "outputs": [
        {
          "data": {
            "image/png": "[encoded data removed]",
            "text/plain": [
              "<Figure size 640x480 with 1 Axes>"
            ]
          },
          "metadata": {},
          "output_type": "display_data"
        }
      ],
      "source": [
        "plot_cm(gru_model, test_loader) #Run function to display confusion matrix"
      ]
    },
    {
      "cell_type": "markdown",
      "source": [
        "By observing the results we can say that the categories in which the model makes the most mistakes in the predictions are Business and Sci/Tech. So, in order to improve the model, we should consider a way to help the model to differentiate better between those categories. One way could be to increase the number of samples in the data set, so the model can make better predictions."
      ],
      "metadata": {
        "id": "D_Mr2abnPZPA"
      },
      "id": "D_Mr2abnPZPA"
    },
    {
      "cell_type": "code",
      "source": [],
      "metadata": {
        "id": "vtH-VehOQ4Bf"
      },
      "id": "vtH-VehOQ4Bf",
      "execution_count": null,
      "outputs": []
    }
  ],
  "metadata": {
    "kernelspec": {
      "display_name": "Python 3 (ipykernel)",
      "language": "python",
      "name": "python3"
    },
    "language_info": {
      "codemirror_mode": {
        "name": "ipython",
        "version": 3
      },
      "file_extension": ".py",
      "mimetype": "text/x-python",
      "name": "python",
      "nbconvert_exporter": "python",
      "pygments_lexer": "ipython3",
      "version": "3.10.0"
    },
    "varInspector": {
      "cols": {
        "lenName": 16,
        "lenType": 16,
        "lenVar": 40
      },
      "kernels_config": {
        "python": {
          "delete_cmd_postfix": "",
          "delete_cmd_prefix": "del ",
          "library": "var_list.py",
          "varRefreshCmd": "print(var_dic_list())"
        },
        "r": {
          "delete_cmd_postfix": ") ",
          "delete_cmd_prefix": "rm(",
          "library": "var_list.r",
          "varRefreshCmd": "cat(var_dic_list()) "
        }
      },
      "types_to_exclude": [
        "module",
        "function",
        "builtin_function_or_method",
        "instance",
        "_Feature"
      ],
      "window_display": false
    },
    "colab": {
      "provenance": [],
      "include_colab_link": true
    }
  },
  "nbformat": 4,
  "nbformat_minor": 5
}