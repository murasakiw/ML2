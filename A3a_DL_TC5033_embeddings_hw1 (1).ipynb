{
 "cells": [
  {
   "cell_type": "markdown",
   "id": "c6142099",
   "metadata": {},
   "source": [
    "## TC 5033\n",
    "### Word Embeddings\n",
    "\n",
    "<br>\n",
    "\n",
    "#### Activity 3a: Exploring Word Embeddings with GloVe and Numpy\n",
    "<br>\n",
    "\n",
    "### Team 15\n",
    "- Héctor Raúl Vázquez González - A00565542\n",
    "- Ronald David Zuniga Sánchez - A01686240\n",
    "- Sergio Omar Esparza Hernández - A01794338\n",
    "- Hugo Enrique Solano Ortega - A01794456\n",
    "\n",
    "<br>\n",
    "\n",
    "- Objective:\n",
    "    - To understand the concept of word embeddings and their significance in Natural Language Processing.\n",
    "    - To learn how to manipulate and visualize high-dimensional data using dimensionality reduction techniques like PCA and t-SNE.\n",
    "    - To gain hands-on experience in implementing word similarity and analogies using GloVe embeddings and Numpy.\n",
    "    \n",
    "<br>\n",
    "\n",
    "- Instructions:\n",
    "    - Download GloVe pre-trained vectors from the provided link in Canvas, the official public project: \n",
    "    Jeffrey Pennington, Richard Socher, and Christopher D. Manning. 2014. GloVe: Global Vectors for Word Representation\n",
    "    https://nlp.stanford.edu/data/glove.6B.zip\n",
    "\n",
    "    - Create a dictorionay of the embeddings so that you carry out fast look ups. Save that dictionary e.g. as a serialized file for faster loading in future uses.\n",
    "    \n",
    "    - PCA and t-SNE Visualization: After loading the GloVe embeddings, use Numpy and Sklearn to perform PCA and t-SNE to reduce the dimensionality of the embeddings and visualize them in a 2D or 3D space.\n",
    "\n",
    "    - Word Similarity: Implement a function that takes a word as input and returns the 'n' most similar words based on their embeddings. You should use Numpy to implement this function, using libraries that already implement this function (e.g. Gensim) will result in zero points.\n",
    "\n",
    "    - Word Analogies: Implement a function to solve analogies between words. For example, \"man is to king as woman is to ____\". You should use Numpy to implement this function, using libraries that already implement this function (e.g. Gensim) will result in zero points.\n",
    "\n",
    "    - Submission: This activity is to be submitted in teams of 3 or 4. Only one person should submit the final work, with the full names of all team members included in a markdown cell at the beginning of the notebook.\n",
    "    \n",
    "<br>\n",
    "\n",
    "- Evaluation Criteria:\n",
    "\n",
    "    - Code Quality (40%): Your code should be well-organized, clearly commented, and easy to follow. Use also markdown cells for clarity.\n",
    "    \n",
    "   - Functionality (60%): All functions should work as intended, without errors.\n",
    "       - Visualization of PCA and t-SNE (10% each for a total of 20%)\n",
    "       - Similarity function (20%)\n",
    "       - Analogy function (20%)\n",
    "|\n",
    "\n"
   ]
  },
  {
   "cell_type": "markdown",
   "id": "329dd09a",
   "metadata": {},
   "source": [
    "#### Import libraries"
   ]
  },
  {
   "cell_type": "code",
   "execution_count": 1,
   "id": "4af04b9d",
   "metadata": {},
   "outputs": [],
   "source": [
    "# Import libraries\n",
    "import torch\n",
    "import torch.nn.functional as F\n",
    "from sklearn.manifold import TSNE\n",
    "from sklearn.decomposition import PCA\n",
    "import matplotlib.pyplot as plt\n",
    "import numpy as np\n",
    "from numpy.linalg import norm\n",
    "import pickle\n",
    "plt.style.use('ggplot')"
   ]
  },
  {
   "cell_type": "markdown",
   "id": "8712cf42",
   "metadata": {},
   "source": [
    "#### Load file"
   ]
  },
  {
   "cell_type": "markdown",
   "metadata": {},
   "source": [
    "First of all we import the GloVe: Global Vectors for Word Representation data set to create a dictionary, in order to visualize the pre trained vector corresponding to each word in the data set. There are four sub data sets in the Glove data set each one differentiated by the amount of dimensions(elements in each vector) to represent each word in the data set."
   ]
  },
  {
   "cell_type": "code",
   "execution_count": 2,
   "id": "8c3c9d2a",
   "metadata": {},
   "outputs": [],
   "source": [
    "PATH = 'glove.6B.50d.txt' #Define path to load pre trained data set\n",
    "emb_dim = 50"
   ]
  },
  {
   "cell_type": "markdown",
   "metadata": {},
   "source": [
    "Next step is to define a function that will take the dataset and create a dictionary variable called \"embeddings_dict\" which will store a collection of lists where each list holds key-value pairs using the word as independent value and the list of vectors as dependent values."
   ]
  },
  {
   "cell_type": "code",
   "execution_count": 3,
   "id": "25a1eae6",
   "metadata": {
    "code_folding": []
   },
   "outputs": [],
   "source": [
    "# Create dictionary with embeddings\n",
    "def create_emb_dictionary(path):\n",
    "    embeddings_dict = dict() #Define empty dictionary to store words and vectors pairs\n",
    "    with open(path, 'r') as file: #Open data set file as read mode\n",
    "        lines = file.readlines() #Read every line in the file and save it in a variable\n",
    "    for line in lines: #Loop through every line in lines\n",
    "        elements = line.split() #Obtain each element separated by a space character of each line \n",
    "        embeddings_dict[elements[0]]=np.array(elements[1:], dtype = float) #Create the key-values pairs using the first element of elements which corresponds to the word\n",
    "\n",
    "    return embeddings_dict"
   ]
  },
  {
   "cell_type": "code",
   "execution_count": 4,
   "id": "347a0e5e",
   "metadata": {
    "code_folding": []
   },
   "outputs": [],
   "source": [
    "# create dictionary\n",
    "embeddings_dict = create_emb_dictionary(PATH) #Run the function to create the dictionary and save it to embeddings dict variable"
   ]
  },
  {
   "cell_type": "code",
   "execution_count": 5,
   "metadata": {},
   "outputs": [
    {
     "name": "stdout",
     "output_type": "stream",
     "text": [
      "The number of key-values (words and punctuation marks) in the dictionary: 400000\n"
     ]
    }
   ],
   "source": [
    "#Show the number of elements in embeddings dictionary\n",
    "print(f'The number of key-values (words and punctuation marks) in the dictionary: {len(embeddings_dict)}')"
   ]
  },
  {
   "cell_type": "code",
   "execution_count": 6,
   "id": "1f01b760",
   "metadata": {
    "code_folding": [
     1
    ]
   },
   "outputs": [],
   "source": [
    "# Serialize\n",
    "#Create a pkl file to save the dictionary\n",
    "with open('embeddings_dict_50D.pkl', 'wb') as f:\n",
    "    pickle.dump(embeddings_dict, f)\n",
    "\n",
    "# Deserialize\n",
    "# with open('embeddings_dict_200D.pkl', 'rb') as f:\n",
    "#     embeddings_dict = pickle.load(f)"
   ]
  },
  {
   "cell_type": "markdown",
   "id": "fd0ab9aa",
   "metadata": {},
   "source": [
    "#### See some embeddings"
   ]
  },
  {
   "cell_type": "markdown",
   "metadata": {},
   "source": [
    "This is a quick function to display to the user a limited amount of elements of the embeddings dictionary"
   ]
  },
  {
   "cell_type": "code",
   "execution_count": 7,
   "id": "8b0991a9",
   "metadata": {},
   "outputs": [],
   "source": [
    "# Show some\n",
    "def show_n_first_words(path, n_words): #Function to show the values in the txt file\n",
    "        with open(path, 'r') as f: #Open Glove txt file as readable file\n",
    "            for i, line in enumerate(f): #Loop through the lines to show the elements in each line\n",
    "                print(line.split(), len(line.split()[1:])) #Print lines splitted by space characters and the number of elements in each vector\n",
    "                if i>=n_words: break #Stop to only show the number of specified elements in the function parameters"
   ]
  },
  {
   "cell_type": "code",
   "execution_count": 8,
   "id": "a16259ec",
   "metadata": {},
   "outputs": [
    {
     "name": "stdout",
     "output_type": "stream",
     "text": [
      "['the', '0.418', '0.24968', '-0.41242', '0.1217', '0.34527', '-0.044457', '-0.49688', '-0.17862', '-0.00066023', '-0.6566', '0.27843', '-0.14767', '-0.55677', '0.14658', '-0.0095095', '0.011658', '0.10204', '-0.12792', '-0.8443', '-0.12181', '-0.016801', '-0.33279', '-0.1552', '-0.23131', '-0.19181', '-1.8823', '-0.76746', '0.099051', '-0.42125', '-0.19526', '4.0071', '-0.18594', '-0.52287', '-0.31681', '0.00059213', '0.0074449', '0.17778', '-0.15897', '0.012041', '-0.054223', '-0.29871', '-0.15749', '-0.34758', '-0.045637', '-0.44251', '0.18785', '0.0027849', '-0.18411', '-0.11514', '-0.78581'] 50\n",
      "[',', '0.013441', '0.23682', '-0.16899', '0.40951', '0.63812', '0.47709', '-0.42852', '-0.55641', '-0.364', '-0.23938', '0.13001', '-0.063734', '-0.39575', '-0.48162', '0.23291', '0.090201', '-0.13324', '0.078639', '-0.41634', '-0.15428', '0.10068', '0.48891', '0.31226', '-0.1252', '-0.037512', '-1.5179', '0.12612', '-0.02442', '-0.042961', '-0.28351', '3.5416', '-0.11956', '-0.014533', '-0.1499', '0.21864', '-0.33412', '-0.13872', '0.31806', '0.70358', '0.44858', '-0.080262', '0.63003', '0.32111', '-0.46765', '0.22786', '0.36034', '-0.37818', '-0.56657', '0.044691', '0.30392'] 50\n",
      "['.', '0.15164', '0.30177', '-0.16763', '0.17684', '0.31719', '0.33973', '-0.43478', '-0.31086', '-0.44999', '-0.29486', '0.16608', '0.11963', '-0.41328', '-0.42353', '0.59868', '0.28825', '-0.11547', '-0.041848', '-0.67989', '-0.25063', '0.18472', '0.086876', '0.46582', '0.015035', '0.043474', '-1.4671', '-0.30384', '-0.023441', '0.30589', '-0.21785', '3.746', '0.0042284', '-0.18436', '-0.46209', '0.098329', '-0.11907', '0.23919', '0.1161', '0.41705', '0.056763', '-6.3681e-05', '0.068987', '0.087939', '-0.10285', '-0.13931', '0.22314', '-0.080803', '-0.35652', '0.016413', '0.10216'] 50\n",
      "['of', '0.70853', '0.57088', '-0.4716', '0.18048', '0.54449', '0.72603', '0.18157', '-0.52393', '0.10381', '-0.17566', '0.078852', '-0.36216', '-0.11829', '-0.83336', '0.11917', '-0.16605', '0.061555', '-0.012719', '-0.56623', '0.013616', '0.22851', '-0.14396', '-0.067549', '-0.38157', '-0.23698', '-1.7037', '-0.86692', '-0.26704', '-0.2589', '0.1767', '3.8676', '-0.1613', '-0.13273', '-0.68881', '0.18444', '0.0052464', '-0.33874', '-0.078956', '0.24185', '0.36576', '-0.34727', '0.28483', '0.075693', '-0.062178', '-0.38988', '0.22902', '-0.21617', '-0.22562', '-0.093918', '-0.80375'] 50\n",
      "['to', '0.68047', '-0.039263', '0.30186', '-0.17792', '0.42962', '0.032246', '-0.41376', '0.13228', '-0.29847', '-0.085253', '0.17118', '0.22419', '-0.10046', '-0.43653', '0.33418', '0.67846', '0.057204', '-0.34448', '-0.42785', '-0.43275', '0.55963', '0.10032', '0.18677', '-0.26854', '0.037334', '-2.0932', '0.22171', '-0.39868', '0.20912', '-0.55725', '3.8826', '0.47466', '-0.95658', '-0.37788', '0.20869', '-0.32752', '0.12751', '0.088359', '0.16351', '-0.21634', '-0.094375', '0.018324', '0.21048', '-0.03088', '-0.19722', '0.082279', '-0.09434', '-0.073297', '-0.064699', '-0.26044'] 50\n",
      "['and', '0.26818', '0.14346', '-0.27877', '0.016257', '0.11384', '0.69923', '-0.51332', '-0.47368', '-0.33075', '-0.13834', '0.2702', '0.30938', '-0.45012', '-0.4127', '-0.09932', '0.038085', '0.029749', '0.10076', '-0.25058', '-0.51818', '0.34558', '0.44922', '0.48791', '-0.080866', '-0.10121', '-1.3777', '-0.10866', '-0.23201', '0.012839', '-0.46508', '3.8463', '0.31362', '0.13643', '-0.52244', '0.3302', '0.33707', '-0.35601', '0.32431', '0.12041', '0.3512', '-0.069043', '0.36885', '0.25168', '-0.24517', '0.25381', '0.1367', '-0.31178', '-0.6321', '-0.25028', '-0.38097'] 50\n"
     ]
    }
   ],
   "source": [
    "show_n_first_words(PATH, 5) #Run the function to show the first 5 elements"
   ]
  },
  {
   "cell_type": "markdown",
   "id": "ff828123",
   "metadata": {},
   "source": [
    "### Plot some embeddings"
   ]
  },
  {
   "cell_type": "markdown",
   "metadata": {},
   "source": [
    "In this next step we define a function to reduce the dimensionality of the vectors in order to visualize them in 2D or 3D.\n",
    "This function works for PCA and for TSNE dimensionality reduction techniques which seek to reduce the quantity of elements in each vector needed to represent each word in the dictionary. "
   ]
  },
  {
   "cell_type": "code",
   "execution_count": 9,
   "id": "3d3ffaa4",
   "metadata": {},
   "outputs": [],
   "source": [
    "def plot_embeddings(emb_path, words2show, emb_dim, embeddings_dict, func = PCA):\n",
    "    words_dict = dict()\n",
    "    for element in words2show:\n",
    "        words_dict[element] = embeddings_dict[element]\n",
    "    pca = func(n_components=emb_dim) #Create object using the specified function and set the number of components to reduce dimensionality\n",
    "    x = list(words_dict.values()) #Obtain list of embedding vectors \n",
    "    x = np.array(x) #Obtain vectors as numpy array\n",
    "    y = list(words_dict.keys()) #Obtain list of words\n",
    "    x_pca = pca.fit_transform(x) #Obtain the data with the dimensionality reduction applied\n",
    "    plotting_points = list() #List to save the points to plot for each word\n",
    "    for word in words2show: #Loop to obtain every set of points for each word\n",
    "        plotting_points.append(x_pca[y.index(word)]) #Obtain the set of points by using the index method to search for the index corresponding to each word\n",
    "    plotting_points = np.array(plotting_points)\n",
    "    X = plotting_points[:,0]\n",
    "    Y = plotting_points[:,1]\n",
    "    \n",
    "    n_points = len(words2show) #Obtain the number of points to plot\n",
    "    colors = plt.cm.viridis(np.linspace(0,1, n_points)) #Generate different colors for each point using a colormap\n",
    "    fig = plt.figure()\n",
    "    if emb_dim == 3:\n",
    "        Z = plotting_points[:,2]\n",
    "        ax = fig.add_subplot(111, projection='3d')\n",
    "        ax.scatter(X, Y, Z, c=colors) #Plot a scatter using points and different colors for each point\n",
    "        for i, label in enumerate(words2show):\n",
    "            ax.text(X[i], Y[i], Z[i], label, fontsize=7,ha='left') #Assign labels to points\n",
    "    else:\n",
    "        ax = fig.add_subplot(111)\n",
    "        ax.scatter(X, Y, c=colors) #Plot a scatter using points and different colors for each point\n",
    "        for i, label in enumerate(words2show):\n",
    "            ax.text(X[i], Y[i], label, fontsize=7,ha='left') #Assign labels to points\n",
    "\n",
    "\n",
    "    plt.show()"
   ]
  },
  {
   "cell_type": "markdown",
   "metadata": {},
   "source": [
    "In this section we specify the elements to apply the dimensionality reduction and that will be shown in the plot."
   ]
  },
  {
   "cell_type": "code",
   "execution_count": 10,
   "id": "9b1b120a",
   "metadata": {},
   "outputs": [],
   "source": [
    "\n",
    "words= ['burger', 'tortilla', 'bread', 'pizza', 'beef', 'steak', 'fries', 'chips', \n",
    "            'argentina', 'mexico', 'spain', 'usa', 'france', 'italy', 'greece', 'china',\n",
    "            'water', 'beer', 'tequila', 'wine', 'whisky', 'brandy', 'vodka', 'coffee', 'tea',\n",
    "            'apple', 'banana', 'orange', 'lemon', 'grapefruit', 'grape', 'strawberry', 'raspberry',\n",
    "            'school', 'work', 'university', 'highschool']\n"
   ]
  },
  {
   "cell_type": "markdown",
   "metadata": {},
   "source": [
    "In this section we run the previous function twice to show both PCA and TSNE dimensionality reduction techniques."
   ]
  },
  {
   "cell_type": "code",
   "execution_count": 11,
   "id": "87d33789",
   "metadata": {},
   "outputs": [
    {
     "data": {
      "image/png": "[encoded data removed]",
      "text/plain": [
       "<Figure size 640x480 with 1 Axes>"
      ]
     },
     "metadata": {},
     "output_type": "display_data"
    }
   ],
   "source": [
    "#Run the function to show the visualization considering PCA as dimensionality reduction technique\n",
    "plot_embeddings(PATH, words, 2, embeddings_dict, PCA)"
   ]
  },
  {
   "cell_type": "markdown",
   "metadata": {},
   "source": [
    "After executing the function considering PCA reduction we observed that the resultant distribution remains constant when executing the function multiple times, and even when the target dimensions are set to a different number (2-10 number of dimensions)."
   ]
  },
  {
   "cell_type": "markdown",
   "metadata": {},
   "source": [
    "During code execution it was found out that TSNE takes way longer to process the full data set than PCA, reason why the amount of words to be applied the TSNE dimensionality reduction to must be limited to a specific amount of word vectors."
   ]
  },
  {
   "cell_type": "code",
   "execution_count": 12,
   "id": "f22bacb4",
   "metadata": {},
   "outputs": [
    {
     "data": {
      "image/png": "[encoded data removed]",
      "text/plain": [
       "<Figure size 640x480 with 1 Axes>"
      ]
     },
     "metadata": {},
     "output_type": "display_data"
    }
   ],
   "source": [
    "# t-SNE dimensionality reduction for visualization\n",
    "plot_embeddings(PATH, words, 2, embeddings_dict, TSNE)"
   ]
  },
  {
   "cell_type": "markdown",
   "metadata": {},
   "source": [
    "In this case, for TSNE, we observed that the distribution changes each time the function is executed, but the grouping of the words remains the same, which means and accurate reduction while preserving the relationship between words. In both visualizations we can observe that words in the same category are grouped together (countries, food, fruits, drinks and places)."
   ]
  },
  {
   "cell_type": "markdown",
   "id": "8211b7f1",
   "metadata": {},
   "source": [
    "### Let us compute analogies"
   ]
  },
  {
   "cell_type": "markdown",
   "metadata": {},
   "source": [
    "In this section we define a function to compute analogies. The function takes 3 words as arguments and it calculates the most similar word to complete the relationship that exists between this word and the other words in the form of an analogy.\n",
    "To calculate the similarity, first, we calculate the difference between the vectors representing the first two words in the analogy this way we obtain the change vector from those words. Then, we add the remaining vector to the difference obtained previously, this resultant vector represents a vector with a relationship similar to the one between the first two words in the analogy. Finally, we used a measure of similarity to compute the relationship between the resultant vector and every other vector in the data set and we store the results so they can be sorted to obtain the closest vector to the resultant vector obtained previously. In this case we used the euclidean distance as a measure of similarity.\n",
    "\n",
    "We used a print function to show the results of the analogy and another print function to show the other close relationships. We dropped the first element in the array sorted with the closest similarities because sometimes we obtain a word that is part of the first three words in the analogy."
   ]
  },
  {
   "cell_type": "code",
   "execution_count": 34,
   "id": "0003ce18",
   "metadata": {},
   "outputs": [],
   "source": [
    "# analogy\n",
    "def analogy(word1, word2, word3, embeddings_dict):\n",
    "    distances_list = list() #Define list to store distances\n",
    "    w1_w2_w3_vector = embeddings_dict[word2]-embeddings_dict[word1] + embeddings_dict[word3] #Obtain the vector w1-w2+w3\n",
    "    for vector in embeddings_dict.values(): ##Loop through all vectors stored in the embeddings dictionary\n",
    "        distances_list.append(np.linalg.norm(vector-w1_w2_w3_vector)) #Obtain euclidian distances between w1-w2+w3 vector and every other vector in the dictionary\n",
    "    distances_array = np.array(distances_list) #Convert list to an array in order to apply numpy functions\n",
    "    ids = distances_array.argsort()[1:10] #Obtain the first indices to sort the array in ascending order, dropping the first because corresponds to the word2\n",
    "    words = [list(embeddings_dict.keys())[i] for i in ids] #Obtain the corresponding words by using the indices and looking for them in dictionary keys\n",
    "    print(f'The analogy is: {word1} is to {word2} as {word3} is to {words[0]}') #Print the result\n",
    "    print(f'The other close relations were: {words[:]}') #Print the other close relations"
   ]
  },
  {
   "cell_type": "code",
   "execution_count": 41,
   "id": "9c02ec01",
   "metadata": {},
   "outputs": [
    {
     "name": "stdout",
     "output_type": "stream",
     "text": [
      "The analogy is: man is to king as woman is to queen\n",
      "The other close relations were: ['queen', 'prince', 'elizabeth', 'daughter', 'widow', 'throne', 'monarch', 'cousin', 'eldest']\n"
     ]
    }
   ],
   "source": [
    "analogy('man', 'king', 'woman', embeddings_dict)"
   ]
  },
  {
   "cell_type": "code",
   "execution_count": 42,
   "metadata": {},
   "outputs": [
    {
     "name": "stdout",
     "output_type": "stream",
     "text": [
      "The analogy is: policeman is to crime as firefighter is to homelessness\n",
      "The other close relations were: ['homelessness', 'workplace', 'corporate', 'examines', 'dealing', 'lapd', 'juvenile', 'focuses', 'created']\n"
     ]
    }
   ],
   "source": [
    "analogy('policeman', 'crime', 'firefighter', embeddings_dict)"
   ]
  },
  {
   "cell_type": "code",
   "execution_count": 43,
   "metadata": {},
   "outputs": [
    {
     "name": "stdout",
     "output_type": "stream",
     "text": [
      "The analogy is: sky is to blue as forest is to green\n",
      "The other close relations were: ['green', 'pine', 'woodland', 'oak', 'prairie', 'tree', 'farm', 'forests', 'trees']\n"
     ]
    }
   ],
   "source": [
    "analogy('sky', 'blue', 'forest', embeddings_dict)"
   ]
  },
  {
   "cell_type": "code",
   "execution_count": 44,
   "id": "4e0ac420",
   "metadata": {},
   "outputs": [
    {
     "name": "stdout",
     "output_type": "stream",
     "text": [
      "The analogy is: mexico is to tequila as britain is to guinness\n",
      "The other close relations were: ['guinness', 'botham', 'fizzy', 'dewar', 'diageo', 'rp-1', 'cadbury', 'scotch', 'schaeffler']\n"
     ]
    }
   ],
   "source": [
    "analogy('mexico', 'tequila', 'britain', embeddings_dict)"
   ]
  },
  {
   "cell_type": "code",
   "execution_count": 45,
   "id": "ecdc465b",
   "metadata": {},
   "outputs": [
    {
     "name": "stdout",
     "output_type": "stream",
     "text": [
      "The analogy is: mexico is to tequila as russia is to vodka\n",
      "The other close relations were: ['vodka', 'crisco', 'maxim', 'milkshakes', 'kvass', 'lard', 'mariya', 'antimatter', 'vengerov']\n"
     ]
    }
   ],
   "source": [
    "analogy('mexico', 'tequila', 'russia', embeddings_dict)"
   ]
  },
  {
   "cell_type": "code",
   "execution_count": 46,
   "id": "c41a6ccb",
   "metadata": {},
   "outputs": [
    {
     "name": "stdout",
     "output_type": "stream",
     "text": [
      "The analogy is: burger is to fries as bread is to butter\n",
      "The other close relations were: ['butter', 'baked', 'flour', 'soup', 'toast', 'potatoes', 'cake', 'potato', 'pancakes']\n"
     ]
    }
   ],
   "source": [
    "analogy('burger', 'fries', 'bread', embeddings_dict)"
   ]
  },
  {
   "cell_type": "markdown",
   "metadata": {},
   "source": [
    "By experimenting with different analogies, we observed that for certain relationships we don't obtain a consistent answer, for instance, when we used the words: policeman, crime and firefighter. In that case we expected to obtain the word fire, but we obtained an unexpected word. This could be due to the amount of dimensionality used to represent each word."
   ]
  },
  {
   "cell_type": "markdown",
   "metadata": {},
   "source": [
    "### Find the most similar words"
   ]
  },
  {
   "cell_type": "markdown",
   "metadata": {},
   "source": [
    "In this section we define a function to find the most similar words to a given word. This code is very similar to the function that computes analogies. In this case we only need to compute the similarity between the given word and every embedding vector in the data set. We used the euclidean distance to compute the similarity and finally we obtain the most similar words the same way we did it for the analogies function. The function returns a list containing the number specified (default is 10) for most similar words."
   ]
  },
  {
   "cell_type": "code",
   "execution_count": 20,
   "id": "bb50e0f7",
   "metadata": {},
   "outputs": [],
   "source": [
    "# most similar\n",
    "def find_most_similar(word, embeddings_dict, top_n=10):\n",
    "    distances_list = list() #Define list to store distances\n",
    "    word_vector = embeddings_dict[word] #Save the word corresponding vector\n",
    "    for vector in embeddings_dict.values(): #Loop through all vectors stored in the embeddings dictionary\n",
    "        distance = np.linalg.norm(vector-word_vector) #Calculate distance between vectors\n",
    "        distances_list.append(distance) #Append values to distances_list\n",
    "    distances_array = np.array(distances_list) #Convert list to an array\n",
    "    ids = distances_array.argsort()[1:top_n+1] ##Obtain the first indices to sort the array in ascending order, dropping the first because it refers to the word we are looking for similarities\n",
    "    similar_words = [list(embeddings_dict.keys())[i] for i in ids] #Obtain the corresponding words by using the indices and looking for them in dictionary keys\n",
    "    return similar_words"
   ]
  },
  {
   "cell_type": "code",
   "execution_count": 21,
   "id": "7946d712",
   "metadata": {},
   "outputs": [],
   "source": [
    "most_similar = find_most_similar('mexico', embeddings_dict) #Run the function to obtain most similar words to mexico"
   ]
  },
  {
   "cell_type": "code",
   "execution_count": 22,
   "id": "3b6e0ea1",
   "metadata": {},
   "outputs": [
    {
     "name": "stdout",
     "output_type": "stream",
     "text": [
      "1 ---> venezuela\n",
      "2 ---> peru\n",
      "3 ---> mexican\n",
      "4 ---> chile\n",
      "5 ---> colombia\n",
      "6 ---> puerto\n",
      "7 ---> rico\n",
      "8 ---> guatemala\n",
      "9 ---> panama\n",
      "10 ---> costa\n"
     ]
    }
   ],
   "source": [
    "#Loop to display the results obtained when calling the function \"find most similar\"\n",
    "for i, w in enumerate(most_similar, 1):\n",
    "    print(f'{i} ---> {w}')"
   ]
  },
  {
   "cell_type": "code",
   "execution_count": 47,
   "metadata": {},
   "outputs": [],
   "source": [
    "most_similar = find_most_similar('bread', embeddings_dict) #Run the function to obtain most similar words to bread"
   ]
  },
  {
   "cell_type": "code",
   "execution_count": 48,
   "metadata": {},
   "outputs": [
    {
     "name": "stdout",
     "output_type": "stream",
     "text": [
      "1 ---> baked\n",
      "2 ---> toast\n",
      "3 ---> soup\n",
      "4 ---> butter\n",
      "5 ---> cake\n",
      "6 ---> potato\n",
      "7 ---> pie\n",
      "8 ---> loaf\n",
      "9 ---> vegetable\n",
      "10 ---> flour\n"
     ]
    }
   ],
   "source": [
    "#Loop to display the results obtained when calling the function \"find most similar\"\n",
    "for i, w in enumerate(most_similar, 1):\n",
    "    print(f'{i} ---> {w}')"
   ]
  }
 ],
 "metadata": {
  "kernelspec": {
   "display_name": "Python 3 (ipykernel)",
   "language": "python",
   "name": "python3"
  },
  "language_info": {
   "codemirror_mode": {
    "name": "ipython",
    "version": 3
   },
   "file_extension": ".py",
   "mimetype": "text/x-python",
   "name": "python",
   "nbconvert_exporter": "python",
   "pygments_lexer": "ipython3",
   "version": "3.10.0"
  },
  "varInspector": {
   "cols": {
    "lenName": 16,
    "lenType": 16,
    "lenVar": 40
   },
   "kernels_config": {
    "python": {
     "delete_cmd_postfix": "",
     "delete_cmd_prefix": "del ",
     "library": "var_list.py",
     "varRefreshCmd": "print(var_dic_list())"
    },
    "r": {
     "delete_cmd_postfix": ") ",
     "delete_cmd_prefix": "rm(",
     "library": "var_list.r",
     "varRefreshCmd": "cat(var_dic_list()) "
    }
   },
   "types_to_exclude": [
    "module",
    "function",
    "builtin_function_or_method",
    "instance",
    "_Feature"
   ],
   "window_display": false
  }
 },
 "nbformat": 4,
 "nbformat_minor": 5
}
