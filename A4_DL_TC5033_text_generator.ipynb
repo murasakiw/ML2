{
  "cells": [
    {
      "cell_type": "markdown",
      "metadata": {
        "id": "view-in-github",
        "colab_type": "text"
      },
      "source": [
        "<a href=\"https://colab.research.google.com/github/murasakiw/ML2/blob/main/A4_DL_TC5033_text_generator.ipynb\" target=\"_parent\"><img src=\"https://colab.research.google.com/assets/colab-badge.svg\" alt=\"Open In Colab\"/></a>"
      ]
    },
    {
      "cell_type": "markdown",
      "id": "037e89c8",
      "metadata": {
        "id": "037e89c8"
      },
      "source": [
        "## TC 5033\n",
        "### Text Generation\n",
        "\n",
        "<br>\n",
        "\n",
        "#### Activity 4: Building a Simple LSTM Text Generator using WikiText-2\n",
        "<br>\n",
        "\n",
        "### Team 15\n",
        "- Héctor Raúl Vázquez González - A00565542\n",
        "- Ronald David Zuniga Sánchez - A01686240\n",
        "- Sergio Omar Esparza Hernández - A01794338\n",
        "- Hugo Enrique Solano Ortega - A01794456\n",
        "\n",
        "\n",
        "\n",
        "Objective:\n",
        "  - Gain a fundamental understanding of Long Short-Term Memory (LSTM) networks.\n",
        "  - Develop hands-on experience with sequence data processing and text generation in PyTorch. Given the simplicity of the model, amount of data, and computer resources, the text you generate will not replace ChatGPT, and results must likely will not make a lot of sense. Its only purpose is academic and to understand the text generation using RNNs.\n",
        "  - Enhance code comprehension and documentation skills by commenting on provided starter code.\n",
        "    \n",
        "<br>\n",
        "\n",
        "Instructions:\n",
        "  - Code Understanding: Begin by thoroughly reading and understanding the code. Comment each section/block of the provided code to demonstrate your understanding. For this, you are encouraged to add cells with experiments to improve your understanding\n",
        "\n",
        "  - Model Overview: The starter code includes an LSTM model setup for sequence data processing. Familiarize yourself with the model architecture and its components. Once you are familiar with the provided model, feel free to change the model to experiment.\n",
        "\n",
        "  - Training Function: Implement a function to train the LSTM model on the WikiText-2 dataset. This function should feed the training data into the model and perform backpropagation.\n",
        "\n",
        "  - Text Generation Function: Create a function that accepts starting text (seed text) and a specified total number of words to generate. The function should use the trained model to generate a continuation of the input text.\n",
        "\n",
        "  - Code Commenting: Ensure that all the provided starter code is well-commented. Explain the purpose and functionality of each section, indicating your understanding.\n",
        "\n",
        "  - Submission: Submit your Jupyter Notebook with all sections completed and commented. Include a markdown cell with the full names of all contributing team members at the beginning of the notebook.\n",
        "    \n",
        "<br>\n",
        "\n",
        "- Evaluation Criteria:\n",
        "    - Code Commenting (60%): The clarity, accuracy, and thoroughness of comments explaining the provided code. You are suggested to use markdown cells for your explanations.\n",
        "\n",
        "    - Training Function Implementation (20%): The correct implementation of the training function, which should effectively train the model.\n",
        "\n",
        "    - Text Generation Functionality (10%): A working function is provided in comments. You are free to use it as long as you make sure to uderstand it, you may as well improve it as you see fit. The minimum expected is to provide comments for the given function.\n",
        "\n",
        "    - Conclusions (10%): Provide some final remarks specifying the differences you notice between this model and the one used  for classification tasks. Also comment on changes you made to the model, hyperparameters, and any other information you consider relevant. Also, please provide 3 examples of generated texts.\n",
        "\n"
      ]
    },
    {
      "cell_type": "markdown",
      "id": "PdmBCkILGSYl",
      "metadata": {
        "id": "PdmBCkILGSYl"
      },
      "source": [
        "# Code Setup and Data Preparation"
      ]
    },
    {
      "cell_type": "markdown",
      "id": "IuI9k0uM10Mz",
      "metadata": {
        "id": "IuI9k0uM10Mz"
      },
      "source": [
        "**General imports**"
      ]
    },
    {
      "cell_type": "markdown",
      "id": "e0f34bvG15Wn",
      "metadata": {
        "id": "e0f34bvG15Wn"
      },
      "source": [
        "- **numpy** and matplotlib.pyplot are libraries for numerical manipulation and data visualization in Python.\n",
        "- **torch** is the primary framework for deep learning.\n",
        "- **torchtext** is a PyTorch-specific library for processing textual data.\n",
        "- **WikiText2** is a text dataset commonly used for natural language processing (NLP) tasks.\n",
        "- random is used for generating random numbers\n",
        "- **DataLoader** and **TensorDataset** are PyTorch classes for handling datasets and efficiently loading data during training.\n",
        "- **random_split** is used to randomly split a dataset into training and testing sets.\n",
        "- **get_tokenizer** is a function to obtain a tokenizer for processing text.\n",
        "- **build_vocab_from_iterator** is used to build a vocabulary from a data iterator.\n",
        "- **to_map_style_dataset** is a function to convert a dataset to the mapping style, necessary for efficient use with DataLoader.\n",
        "- **nn** contains base classes for defining and training models in PyTorch.\n",
        "- **F** contains activation and loss functions in PyTorch.\n",
        "- **optim** contains optimizers, such as SGD or Adam, for adjusting model parameters during training.\n",
        "- **tqdm** provides a progress bar during iterations."
      ]
    },
    {
      "cell_type": "code",
      "execution_count": null,
      "id": "3eb4b117",
      "metadata": {
        "id": "3eb4b117"
      },
      "outputs": [],
      "source": [
        "#General Data Wrangling Libraries\n",
        "import numpy as np\n",
        "import matplotlib.pyplot as plt\n",
        "#PyTorch libraries\n",
        "import torch\n",
        "import torchtext\n",
        "from torchtext.datasets import WikiText2\n",
        "# Dataloader library\n",
        "from torch.utils.data import DataLoader, TensorDataset\n",
        "from torch.utils.data.dataset import random_split\n",
        "# Libraries to prepare the data\n",
        "from torchtext.data.utils import get_tokenizer\n",
        "from torchtext.vocab import build_vocab_from_iterator\n",
        "from torchtext.data.functional import to_map_style_dataset\n",
        "# neural layers\n",
        "from torch import nn\n",
        "from torch.nn import functional as F\n",
        "import torch.optim as optim\n",
        "from tqdm import tqdm\n",
        "\n",
        "import random"
      ]
    },
    {
      "cell_type": "code",
      "execution_count": null,
      "id": "PguCallJJQvJ",
      "metadata": {
        "id": "PguCallJJQvJ"
      },
      "outputs": [],
      "source": [
        "#pip install portalocker>=2.0.0"
      ]
    },
    {
      "cell_type": "markdown",
      "id": "EwkGMMjF3RAe",
      "metadata": {
        "id": "EwkGMMjF3RAe"
      },
      "source": [
        "checks if a CUDA-compatible GPU is available."
      ]
    },
    {
      "cell_type": "code",
      "execution_count": null,
      "id": "6d8ff971",
      "metadata": {
        "colab": {
          "base_uri": "https://localhost:8080/"
        },
        "id": "6d8ff971",
        "outputId": "7c569332-5339-4b5d-cc3e-c007190be64c"
      },
      "outputs": [
        {
          "name": "stdout",
          "output_type": "stream",
          "text": [
            "cuda\n"
          ]
        }
      ],
      "source": [
        "device = 'cuda' if torch.cuda.is_available() else 'cpu' #Define the device that will be used to train the model\n",
        "print(device) #Print the device available"
      ]
    },
    {
      "cell_type": "markdown",
      "id": "kyxYfCiQ_DR0",
      "metadata": {
        "id": "kyxYfCiQ_DR0"
      },
      "source": [
        "In this section, we define all the processing steps necessary to get the data in the proper format to feed the model. WikiText-2 Dataset consists of a collection of Wikipedia articles with over 100 million tokens that include words, subwords, and characters."
      ]
    },
    {
      "cell_type": "markdown",
      "id": "MYrUpF2g4m-x",
      "metadata": {
        "id": "MYrUpF2g4m-x"
      },
      "source": [
        "This line of code is using the **WikiText2** class from the torchtext.datasets module to load the WikiText-2 dataset and split it into three sets: training (**train_dataset**), validation (**val_dataset**), and testing (**test_dataset**)."
      ]
    },
    {
      "cell_type": "code",
      "execution_count": null,
      "id": "f3288ce5",
      "metadata": {
        "id": "f3288ce5"
      },
      "outputs": [],
      "source": [
        "train_dataset, val_dataset, test_dataset = WikiText2() #Returns a datapipe that yields text from wikipedia articles"
      ]
    },
    {
      "cell_type": "markdown",
      "id": "YHuU6dHF_xSc",
      "metadata": {
        "id": "YHuU6dHF_xSc"
      },
      "source": [
        "Basic english tokenizer is used to build a vocabulary setting rules for special tokens."
      ]
    },
    {
      "cell_type": "markdown",
      "id": "1IP8dOlY46l7",
      "metadata": {
        "id": "1IP8dOlY46l7"
      },
      "source": [
        "This code defines a tokenizer for processing English text using the **get_tokenizer** function from the torchtext.data.utils module. It also defines a generator function named **yield_tokens** that takes a collection of text data and yields the tokens produced by the tokenizer."
      ]
    },
    {
      "cell_type": "code",
      "execution_count": null,
      "id": "fc4c7dbd",
      "metadata": {
        "id": "fc4c7dbd"
      },
      "outputs": [],
      "source": [
        "#Using the tokeniser we can divide the text in tokens, convert lowercase and other transformations necessary to feed de model\n",
        "#The basic_english parameter normalizes the string first and splits it by space\n",
        "tokeniser = get_tokenizer('basic_english')\n",
        "#The function takes the data set as parameter\n",
        "#We ignore the label and we only need the text, which is passed to the tokeniser object\n",
        "#'yield' allows to generate tokens one by one\n",
        "def yield_tokens(data):\n",
        "    for text in data:\n",
        "        yield tokeniser(text)"
      ]
    },
    {
      "cell_type": "markdown",
      "id": "MSrVRvhyACIs",
      "metadata": {
        "id": "MSrVRvhyACIs"
      },
      "source": [
        "This code is responsible for building a vocabulary from the training dataset using the tokenization function defined earlier. we create a vocab object which later will be used as an input parameter in the model embedding layer to create a lookup table to store word embeddings a retrieve them using indices. We specify the special symbols to add to the vocab object. Additionally, it sets up special tokens and assigns a default index to the unknown token ('<'unk'>')\n",
        "Special tokens are defined as follows:\n",
        "*  unk (unknown)\n",
        "*  pad (padding)\n",
        "*  bos (beginning of sequence)\n",
        "*  eos (end of sequence)."
      ]
    },
    {
      "cell_type": "code",
      "execution_count": null,
      "id": "2c2cb068",
      "metadata": {
        "id": "2c2cb068"
      },
      "outputs": [],
      "source": [
        "# Build the vocabulary\n",
        "# Returns a vocab object, the function takes an iterator as first parameter which is the generator using the yield_tokens function\n",
        "# specials define the special symbols to add\n",
        "vocab = build_vocab_from_iterator(yield_tokens(train_dataset), specials=[\"<unk>\", \"<pad>\", \"<bos>\", \"<eos>\"])\n",
        "#set unknown token at position 0\n",
        "vocab.set_default_index(vocab[\"<unk>\"])"
      ]
    },
    {
      "cell_type": "markdown",
      "id": "553ra0SBAfNg",
      "metadata": {
        "id": "553ra0SBAfNg"
      },
      "source": [
        "In this subsection, the function 'data_process' is defined and then used to obtain all the inputs for the model. The resulting data consists of two tensors corresponding to inputs (x) and targets (y). The inputs (x) tensor consists of tensors with a sequence of indices representing the words in the raw text. The raw text is not completely converted to indices, the number of words considered is specified with the 'seq_length' parameter.\n",
        "\n",
        "The function is defined to process raw text data into input-output pairs set for training.\n",
        "\n",
        "The function tokenizes the text then converts the tokens to indices using the vocabulary, and creates sequences of a specified length.\n",
        "\n",
        "The resulting data is then split into input (x) and target (y) tensors."
      ]
    },
    {
      "cell_type": "code",
      "execution_count": null,
      "id": "134b832b",
      "metadata": {
        "id": "134b832b"
      },
      "outputs": [],
      "source": [
        "seq_length = 50 #Number of elements considered for each text in the data set\n",
        "def data_process(raw_text_iter, seq_length = 50):\n",
        "    #Creates list with indices from tokeniser and then it is obtained as a tensor for each text in the torch datapipe\n",
        "    data = [torch.tensor(vocab(tokeniser(item)), dtype=torch.long) for item in raw_text_iter]\n",
        "    data = torch.cat(tuple(filter(lambda t: t.numel() > 0, data))) #remove empty tensors\n",
        "#     target_data = torch.cat(d)\n",
        "    return (data[:-(data.size(0)%seq_length)].view(-1, seq_length),\n",
        "            data[1:-(data.size(0)%seq_length-1)].view(-1, seq_length)) #Returns the x input data and y target data\n",
        "\n",
        "# Create tensors for the training set\n",
        "x_train, y_train = data_process(train_dataset, seq_length) #Get the training data\n",
        "x_val, y_val = data_process(val_dataset, seq_length) #Get the validation data\n",
        "x_test, y_test = data_process(test_dataset, seq_length) #Get the test data"
      ]
    },
    {
      "cell_type": "markdown",
      "id": "HuOczwbxA15A",
      "metadata": {
        "id": "HuOczwbxA15A"
      },
      "source": [
        "Tensors are created to prepare the dataset for training by converting the split Train, Val, and Test tokens."
      ]
    },
    {
      "cell_type": "code",
      "execution_count": null,
      "id": "4b54c04d",
      "metadata": {
        "id": "4b54c04d"
      },
      "outputs": [],
      "source": [
        "#The method TensorDataset wraps input and target datum and it is used to retrieve each sample by indexing tensors\n",
        "train_dataset = TensorDataset(x_train, y_train)\n",
        "val_dataset = TensorDataset(x_val, y_val)\n",
        "test_dataset = TensorDataset(x_test, y_test)"
      ]
    },
    {
      "cell_type": "markdown",
      "id": "8iZ3zsvDBPR7",
      "metadata": {
        "id": "8iZ3zsvDBPR7"
      },
      "source": [
        "Pytorch Dataloader is used to create the corresponding training, validation, and test dataset batches."
      ]
    },
    {
      "cell_type": "code",
      "execution_count": null,
      "id": "f4d400fb",
      "metadata": {
        "id": "f4d400fb"
      },
      "outputs": [],
      "source": [
        "batch_size = 64  # choose a batch size that fits your computation resources\n",
        "train_loader = DataLoader(train_dataset, batch_size=batch_size, shuffle=True, drop_last=True)\n",
        "val_loader = DataLoader(val_dataset, batch_size=batch_size, shuffle=True, drop_last=True)\n",
        "test_loader = DataLoader(test_dataset, batch_size=batch_size, shuffle=True, drop_last=True)"
      ]
    },
    {
      "cell_type": "markdown",
      "id": "3hFCvxCjG-9S",
      "metadata": {
        "id": "3hFCvxCjG-9S"
      },
      "source": [
        "# Model Preparation"
      ]
    },
    {
      "cell_type": "markdown",
      "id": "Cy3STJyiCBKI",
      "metadata": {
        "id": "Cy3STJyiCBKI"
      },
      "source": [
        "The LSTM model is defined with a standard architecture consisting of an embedding layer, an LSTM layer, and a linear layer using a forward method to process the input sequences through the layers."
      ]
    },
    {
      "cell_type": "markdown",
      "id": "vc1xgp8Z54WF",
      "metadata": {
        "id": "vc1xgp8Z54WF"
      },
      "source": [
        "This code defines an LSTM (Long Short-Term Memory) model using PyTorch's nn.Module class. The model is designed for sequence-to-sequence tasks, such as language modeling.\n",
        "\n",
        "- class LSTMModel(nn.Module):: This line defines a new class named LSTMModel, which inherits from nn.Module. This is a common practice when creating neural network models in PyTorch.\n",
        "\n",
        "- def __init__(self, vocab_size, embed_size, hidden_size, num_layers):: The __init__ method is the constructor for the class. It initializes the parameters of the LSTM model.\n",
        "\n",
        "- self.embeddings = nn.Embedding(vocab_size, embed_size): This line creates an embedding layer with input vocabulary size vocab_size and embedding size embed_size. Embedding layers are used to convert discrete tokens into continuous vector representations.\n",
        "\n",
        "- self.hidden_size = hidden_size: Sets the hidden size of the LSTM.\n",
        "\n",
        "- self.num_layers = num_layers: Sets the number of LSTM layers.\n",
        "\n",
        "- self.lstm = nn.LSTM(embed_size, hidden_size, num_layers, batch_first=True): Defines the LSTM layer. batch_first=True indicates that the input and output tensors should have the batch size as their first dimension.\n",
        "\n",
        "- self.fc = nn.Linear(hidden_size, vocab_size): Defines a fully connected (linear) layer that maps the LSTM output to the vocabulary size. The FC layer is used to obtain all the probabilities on which word could be next in the sequence of words\n",
        "\n",
        "- forward(self, text, hidden): This method defines the forward pass of the model. Given an input sequence text and the previous hidden state hidden, it computes the forward pass.\n",
        "\n",
        "- embeddings = self.embeddings(text): Embeds the input sequence using the embedding layer.\n",
        "\n",
        "- output, hidden = self.lstm(embeddings, hidden): Passes the embedded sequence through the LSTM layer, obtaining the output and the new hidden state.\n",
        "\n",
        "- decoded = self.fc(output): Applies the fully connected layer to get the model's output.\n",
        "\n",
        "- return decoded, hidden: Returns the output and the new hidden state.\n",
        "- init_hidden(self, batch_size): This method initializes the hidden state of the LSTM. It returns a tuple representing the initial hidden state, consisting of zero tensors.\n",
        "\n"
      ]
    },
    {
      "cell_type": "code",
      "execution_count": null,
      "id": "59c63b01",
      "metadata": {
        "id": "59c63b01"
      },
      "outputs": [],
      "source": [
        "# Define the LSTM model\n",
        "# Feel free to experiment\n",
        "class LSTMModel(nn.Module): #Define the class that will be used to build the model\n",
        "    def __init__(self, vocab_size, embed_size, hidden_size, num_layers):\n",
        "        super(LSTMModel, self).__init__()\n",
        "        self.embeddings = nn.Embedding(vocab_size, embed_size)\n",
        "        self.hidden_size = hidden_size #Number of neurons in the layer\n",
        "        self.num_layers = num_layers #Number of hidden layers\n",
        "        self.lstm = nn.LSTM(embed_size, hidden_size, num_layers, batch_first=True)\n",
        "        self.fc = nn.Linear(hidden_size, #Input is the number of layers in the recurrent layer\n",
        "                            vocab_size) #Output is the number of elements in the vocabulary\n",
        "\n",
        "    def forward(self, text, hidden):\n",
        "        embeddings = self.embeddings(text) #Obtain the indices for each word in the raw text\n",
        "        output, hidden = self.lstm(embeddings, hidden) #Forward pass to obtain the outputs of the lstm layer\n",
        "        decoded = self.fc(output) #FC to get all the probabilities on which word could be next\n",
        "        return decoded, hidden\n",
        "\n",
        "    def init_hidden(self, batch_size): #Method to initialize the first hidden state of the LSTM layer\n",
        "\n",
        "        return (torch.zeros(self.num_layers, batch_size, self.hidden_size).to(device),\n",
        "                torch.zeros(self.num_layers, batch_size, self.hidden_size).to(device))\n",
        "\n",
        "\n",
        "\n",
        "vocab_size = len(vocab) # vocabulary size\n",
        "emb_size = 100 # embedding size\n",
        "neurons = 128 # the dimension of the feedforward network model, i.e. # of neurons\n",
        "num_layers = 5 # the number of nn.LSTM layers\n",
        "model_1 = LSTMModel(vocab_size, emb_size, neurons, num_layers)\n",
        "model_2 = LSTMModel(vocab_size, emb_size, neurons, num_layers)\n",
        "num_layers_1 = 1\n",
        "model_3 = LSTMModel(vocab_size, emb_size, neurons, num_layers_1)"
      ]
    },
    {
      "cell_type": "markdown",
      "id": "SAmgGznoDAS1",
      "metadata": {
        "id": "SAmgGznoDAS1"
      },
      "source": [
        "This section contains a definition of a function to compute the accuracy of the model, the definition of a plot function to visualize training loss over each epoch and accuracy and a function to compute the perplexity metric."
      ]
    },
    {
      "cell_type": "markdown",
      "id": "hJ6CxBU461Jl",
      "metadata": {
        "id": "hJ6CxBU461Jl"
      },
      "source": [
        "This code defines a function named calculate_accuracy that computes the accuracy of a given PyTorch model on a specified data loader.\n",
        "- def calculate_accuracy(model, data_loader):: This line defines a function named calculate_accuracy that takes a PyTorch model (model) and a data loader (data_loader) as input.\n",
        "\n",
        "- model.eval(): Sets the model to evaluation mode. This is important when using layers like dropout, as it ensures they are not active during the evaluation.\n",
        "\n",
        "- correct = 0 and total = 0: Initialize variables to keep track of the number of correctly predicted labels and the total number of labels.\n",
        "\n",
        "- with torch.no_grad():: Temporarily disables gradient computation during the evaluation to save memory.\n",
        "\n",
        "- for data, targets in data_loader:: Iterate over batches of data and corresponding targets in the provided data loader.\n",
        "\n",
        "- xi = data.to(device=device, dtype=torch.long): Move the input data to the specified device (GPU or CPU) and set its data type.\n",
        "\n",
        "- yi = targets.to(device=device, dtype=torch.long): Move the target labels to the specified device and set their data type.\n",
        "\n",
        "- hidden = model.init_hidden(batch_size=data.size(0)): Initialize the hidden state of the model based on the batch size of the current data.\n",
        "\n",
        "- scores, hidden = model(xi, hidden): Get model predictions (scores) and the updated hidden state for the input data.\n",
        "\n",
        "- predicted_labels = torch.argmax(scores, dim=2): Predict the labels by selecting the index with the maximum score along the second dimension (assuming the output is a sequence).\n",
        "\n",
        "- correct += (predicted_labels == yi).sum().item(): Count the number of correctly predicted labels.\n",
        "\n",
        "- total += yi.numel(): Update the total count of labels.\n",
        "\n",
        "- accuracy = correct / total: Calculate the accuracy as the ratio of correctly predicted labels to the total number of labels.\n",
        "\n",
        "- return accuracy: Return the calculated accuracy."
      ]
    },
    {
      "cell_type": "code",
      "execution_count": null,
      "id": "WOVJSZagDYqC",
      "metadata": {
        "id": "WOVJSZagDYqC"
      },
      "outputs": [],
      "source": [
        "def calculate_accuracy(model, data_loader):\n",
        "    model.eval() #Set model to evaluation mode\n",
        "    correct = 0 #Variable to store the number of correct predictions\n",
        "    total = 0 #Variable to store the number of total samples\n",
        "    with torch.no_grad():\n",
        "        for data, targets in data_loader: #Loop through the data loader to obtain mini batches\n",
        "            xi = data.to(device=device, dtype=torch.long) #Input data as torch tensors using GPU\n",
        "            yi = targets.to(device=device, dtype=torch.long) #Targets as torch tensors using GPU\n",
        "\n",
        "            hidden = model.init_hidden(batch_size=data.size(0))\n",
        "            scores, hidden = model(xi, hidden) #Obtain the ouputs of the model\n",
        "            predicted_labels = torch.argmax(scores, dim=2)\n",
        "            correct += (predicted_labels == yi).sum().item() #Sum the total of correct samples\n",
        "            total += yi.numel() #Obtain the total samples of the batch and add the result to the variable\n",
        "\n",
        "    accuracy = correct / total #Calculate the accuracy\n",
        "    return accuracy"
      ]
    },
    {
      "cell_type": "markdown",
      "id": "a7ZKhvZY7ceY",
      "metadata": {
        "id": "a7ZKhvZY7ceY"
      },
      "source": [
        "This code defines a function named plot_loss that takes a list of training losses as input and generates a simple line plot to visualize the training loss over epochs.\n",
        "\n",
        "- def plot_loss(train_losses):: This line defines a function named plot_loss that takes a list of training losses (train_losses) as an argument.\n",
        "\n",
        "- plt.plot(train_losses, label='Training Loss'): Plots the training losses using the plot function from the matplotlib.pyplot library. The label parameter is set to 'Training Loss' for the legend.\n",
        "\n",
        "- plt.xlabel('Epochs'): Adds a label to the x-axis of the plot, indicating the number of epochs.\n",
        "\n",
        "- plt.ylabel('Loss'): Adds a label to the y-axis of the plot, indicating the loss value.\n",
        "\n",
        "- plt.title('Training Loss Over Epochs'): Adds a title to the plot.\n",
        "\n",
        "- plt.legend(): Displays the legend on the plot, utilizing the label provided in the plot function.\n",
        "\n",
        "- plt.show(): Finally, displays the plot."
      ]
    },
    {
      "cell_type": "code",
      "execution_count": null,
      "id": "NUSM--X89Vd0",
      "metadata": {
        "id": "NUSM--X89Vd0"
      },
      "outputs": [],
      "source": [
        "def plot_loss(train_losses):\n",
        "    plt.plot(train_losses, label='Training Loss')\n",
        "    plt.xlabel('Epochs')\n",
        "    plt.ylabel('Loss')\n",
        "    plt.title('Training Loss Over Epochs')\n",
        "    plt.legend()\n",
        "    plt.show()"
      ]
    },
    {
      "cell_type": "markdown",
      "id": "ogrVVl3U7wG1",
      "metadata": {
        "id": "ogrVVl3U7wG1"
      },
      "source": [
        "This code defines a function named plot_accuracy that takes a list of validation accuracies as input and generates a line plot to visualize how the validation accuracy changes over epochs\n",
        "\n",
        "- def plot_accuracy(val_accuracies):: This line defines a function named plot_accuracy that takes a list of validation accuracies (val_accuracies) as an argument.\n",
        "\n",
        "- plt.plot(val_accuracies, label='Validation Accuracy', color='green'): Plots the validation accuracies using the plot function from the matplotlib.pyplot library. The label parameter is set to 'Validation Accuracy' for the legend, and the color parameter is set to 'green'.\n",
        "\n",
        "- plt.xlabel('Epochs'): Adds a label to the x-axis of the plot, indicating the number of epochs.\n",
        "\n",
        "- plt.ylabel('Accuracy'): Adds a label to the y-axis of the plot, indicating the accuracy value.\n",
        "\n",
        "- plt.title('Validation Accuracy Over Epochs'): Adds a title to the plot.\n",
        "\n",
        "- plt.legend(): Displays the legend on the plot, utilizing the label provided in the plot function.\n",
        "\n",
        "- plt.tight_layout(): Adjusts the layout of the plot for better appearance.\n",
        "\n",
        "- plt.show(): Finally, displays the plot."
      ]
    },
    {
      "cell_type": "code",
      "execution_count": null,
      "id": "HVvpQJsfFKWq",
      "metadata": {
        "id": "HVvpQJsfFKWq"
      },
      "outputs": [],
      "source": [
        "def plot_accuracy(val_accuracies):\n",
        "    plt.plot(val_accuracies, label='Validation Accuracy', color='green')\n",
        "    plt.xlabel('Epochs')\n",
        "    plt.ylabel('Accuracy')\n",
        "    plt.title('Validation Accuracy Over Epochs')\n",
        "    plt.legend()\n",
        "\n",
        "    plt.tight_layout()\n",
        "    plt.show()"
      ]
    },
    {
      "cell_type": "markdown",
      "id": "Nbqy_nUn8GwG",
      "metadata": {
        "id": "Nbqy_nUn8GwG"
      },
      "source": [
        "This code defines a training function named train for a PyTorch model. It performs training over a specified number of epochs, calculating the loss and accuracy during each epoch."
      ]
    },
    {
      "cell_type": "code",
      "execution_count": null,
      "id": "215eabb9",
      "metadata": {
        "id": "215eabb9"
      },
      "outputs": [],
      "source": [
        "\n",
        "def train(model, epochs, optimiser):\n",
        "    train_losses=list() #Define list to store the training losses\n",
        "    val_accuracies = list() #Define list to store the validation accuracies\n",
        "    train_accuracies = list()\n",
        "    model = model.to(device=device) #Set the device to use GPU\n",
        "    total_cost = 0\n",
        "    val_cost = 0\n",
        "\n",
        "    for epoch in range(epochs):\n",
        "        total_cost = 0\n",
        "        total_perplexity = 0 #Variable to store the total perplexity metric of the model\n",
        "        model.train()\n",
        "        for data, targets in train_loader:\n",
        "            # TO COMPLETE\n",
        "            xi = data.to(device=device, dtype = torch.long) #Input data as torch tensors using GPU\n",
        "            yi = targets.to(device=device, dtype = torch.long) #Labels / tokens as torch tensors using GPU\n",
        "            hidden = model.init_hidden(batch_size=data.size(0))\n",
        "            optimiser.zero_grad()\n",
        "            scores, hidden = model(xi, hidden) #Obtain the ouput of the model\n",
        "            scores_reshaped = scores.permute(0,2,1) #Obtain the ouput of the model\n",
        "            cost = F.cross_entropy(scores_reshaped, yi) #Apply the cross_entropy function to calculate the cost\n",
        "            perplexity = torch.exp(cost)\n",
        "            cost.backward() #Calculate gradients with respect to all parameters of the model\n",
        "            optimiser.step() #Update parameters considering the defined optimiser\n",
        "            total_cost+=cost.item()\n",
        "            total_perplexity+=perplexity\n",
        "\n",
        "        #Obtain the training and validation accuracies\n",
        "        average_cost = total_cost/len(train_loader) #Calculate average cost\n",
        "        average_pp = total_perplexity/len(train_loader) #Calculate average perplexity\n",
        "        #Record list of training losses\n",
        "        train_losses.append(average_cost)\n",
        "\n",
        "        # Calculate model accuracy\n",
        "        val_accuracy = calculate_accuracy(model, val_loader)\n",
        "        val_accuracies.append(val_accuracy)\n",
        "\n",
        "        print(f'Epoch: {epoch} --- Average cost: {average_cost: .4f} --- Val. Accuracy: {val_accuracy * 100:.2f}% --- Average perplexity: {average_pp: .4f}')\n",
        "    return val_accuracies, train_losses"
      ]
    },
    {
      "cell_type": "markdown",
      "id": "rOUoi8mwHFDV",
      "metadata": {
        "id": "rOUoi8mwHFDV"
      },
      "source": [
        "# Model Training"
      ]
    },
    {
      "cell_type": "markdown",
      "id": "7_6K99YY8cZ8",
      "metadata": {
        "id": "7_6K99YY8cZ8"
      },
      "source": [
        "This code calls the train function to train the previously defined PyTorch model"
      ]
    },
    {
      "cell_type": "code",
      "execution_count": null,
      "id": "aa9c84ce",
      "metadata": {
        "colab": {
          "base_uri": "https://localhost:8080/"
        },
        "id": "aa9c84ce",
        "outputId": "a5c2ef89-695c-461a-eeb5-cb1ef56fce08"
      },
      "outputs": [
        {
          "name": "stdout",
          "output_type": "stream",
          "text": [
            "Epoch: 0 --- Average cost:  7.1557 --- Val. Accuracy: 6.86% --- Average perplexity:  1407.7208\n",
            "Epoch: 1 --- Average cost:  6.9998 --- Val. Accuracy: 6.84% --- Average perplexity:  1098.7128\n",
            "Epoch: 2 --- Average cost:  6.5308 --- Val. Accuracy: 16.72% --- Average perplexity:  713.5651\n",
            "Epoch: 3 --- Average cost:  5.8831 --- Val. Accuracy: 19.96% --- Average perplexity:  361.1914\n",
            "Epoch: 4 --- Average cost:  5.5993 --- Val. Accuracy: 21.06% --- Average perplexity:  270.9960\n",
            "Epoch: 5 --- Average cost:  5.4182 --- Val. Accuracy: 21.46% --- Average perplexity:  226.0522\n",
            "Epoch: 6 --- Average cost:  5.2751 --- Val. Accuracy: 21.48% --- Average perplexity:  195.9606\n",
            "Epoch: 7 --- Average cost:  5.1535 --- Val. Accuracy: 21.81% --- Average perplexity:  173.5490\n",
            "Epoch: 8 --- Average cost:  5.0506 --- Val. Accuracy: 21.91% --- Average perplexity:  156.5704\n",
            "Epoch: 9 --- Average cost:  4.9604 --- Val. Accuracy: 21.98% --- Average perplexity:  143.0672\n",
            "Epoch: 10 --- Average cost:  4.8788 --- Val. Accuracy: 21.93% --- Average perplexity:  131.8643\n",
            "Epoch: 11 --- Average cost:  4.8050 --- Val. Accuracy: 22.05% --- Average perplexity:  122.4715\n",
            "Epoch: 12 --- Average cost:  4.7382 --- Val. Accuracy: 22.02% --- Average perplexity:  114.5838\n",
            "Epoch: 13 --- Average cost:  4.6759 --- Val. Accuracy: 22.01% --- Average perplexity:  107.6874\n",
            "Epoch: 14 --- Average cost:  4.6184 --- Val. Accuracy: 22.05% --- Average perplexity:  101.6500\n",
            "Epoch: 15 --- Average cost:  4.5674 --- Val. Accuracy: 21.97% --- Average perplexity:  96.6459\n",
            "Epoch: 16 --- Average cost:  4.5186 --- Val. Accuracy: 21.96% --- Average perplexity:  92.0269\n",
            "Epoch: 17 --- Average cost:  4.4740 --- Val. Accuracy: 22.01% --- Average perplexity:  88.0396\n",
            "Epoch: 18 --- Average cost:  4.4335 --- Val. Accuracy: 21.87% --- Average perplexity:  84.5506\n",
            "Epoch: 19 --- Average cost:  4.3952 --- Val. Accuracy: 21.84% --- Average perplexity:  81.3553\n",
            "Epoch: 20 --- Average cost:  4.3592 --- Val. Accuracy: 21.71% --- Average perplexity:  78.4722\n",
            "Epoch: 21 --- Average cost:  4.3291 --- Val. Accuracy: 21.74% --- Average perplexity:  76.1398\n",
            "Epoch: 22 --- Average cost:  4.2989 --- Val. Accuracy: 21.80% --- Average perplexity:  73.8620\n",
            "Epoch: 23 --- Average cost:  4.2698 --- Val. Accuracy: 21.73% --- Average perplexity:  71.7747\n",
            "Epoch: 24 --- Average cost:  4.2453 --- Val. Accuracy: 21.76% --- Average perplexity:  70.0318\n",
            "Epoch: 25 --- Average cost:  4.2214 --- Val. Accuracy: 21.55% --- Average perplexity:  68.3881\n",
            "Epoch: 26 --- Average cost:  4.1987 --- Val. Accuracy: 21.58% --- Average perplexity:  66.8524\n",
            "Epoch: 27 --- Average cost:  4.1781 --- Val. Accuracy: 21.52% --- Average perplexity:  65.4793\n",
            "Epoch: 28 --- Average cost:  4.1568 --- Val. Accuracy: 21.67% --- Average perplexity:  64.1010\n",
            "Epoch: 29 --- Average cost:  4.1392 --- Val. Accuracy: 21.55% --- Average perplexity:  62.9792\n"
          ]
        },
        {
          "data": {
            "image/png": "[encoded data removed]",
            "text/plain": [
              "<Figure size 640x480 with 1 Axes>"
            ]
          },
          "metadata": {},
          "output_type": "display_data"
        },
        {
          "data": {
            "image/png": "[encoded data removed]",
            "text/plain": [
              "<Figure size 640x480 with 1 Axes>"
            ]
          },
          "metadata": {},
          "output_type": "display_data"
        }
      ],
      "source": [
        "# Call the training function using the model with 5 hidden layers and lr=0.005\n",
        "loss_function = nn.CrossEntropyLoss()\n",
        "lr = 0.005\n",
        "epochs = 30\n",
        "optimiser = optim.Adam(model_1.parameters(), lr=lr)\n",
        "val_accuracies, train_losses = train(model_1, epochs, optimiser)\n",
        "# Plot Losses\n",
        "plot_loss(train_losses)\n",
        "# Plot accuracies\n",
        "plot_accuracy(val_accuracies)"
      ]
    },
    {
      "cell_type": "code",
      "execution_count": null,
      "metadata": {
        "id": "Qyskhwrb3rNP",
        "outputId": "3cfaaec3-11d0-4b7c-faf5-f6bf9fb5bd81"
      },
      "outputs": [
        {
          "name": "stdout",
          "output_type": "stream",
          "text": [
            "Epoch: 0 --- Average cost:  7.1182 --- Val. Accuracy: 6.84% --- Average perplexity:  1932.8848\n",
            "Epoch: 1 --- Average cost:  6.9343 --- Val. Accuracy: 6.86% --- Average perplexity:  1028.1733\n",
            "Epoch: 2 --- Average cost:  6.9301 --- Val. Accuracy: 6.86% --- Average perplexity:  1023.7622\n",
            "Epoch: 3 --- Average cost:  6.9256 --- Val. Accuracy: 6.86% --- Average perplexity:  1019.1217\n",
            "Epoch: 4 --- Average cost:  6.9223 --- Val. Accuracy: 6.86% --- Average perplexity:  1015.7511\n",
            "Epoch: 5 --- Average cost:  6.9198 --- Val. Accuracy: 6.86% --- Average perplexity:  1013.2856\n",
            "Epoch: 6 --- Average cost:  6.9070 --- Val. Accuracy: 8.97% --- Average perplexity:  1000.7856\n",
            "Epoch: 7 --- Average cost:  6.5185 --- Val. Accuracy: 14.78% --- Average perplexity:  684.1314\n",
            "Epoch: 8 --- Average cost:  6.2020 --- Val. Accuracy: 16.87% --- Average perplexity:  495.4293\n",
            "Epoch: 9 --- Average cost:  6.0247 --- Val. Accuracy: 17.64% --- Average perplexity:  414.5253\n",
            "Epoch: 10 --- Average cost:  5.9085 --- Val. Accuracy: 18.46% --- Average perplexity:  369.0349\n",
            "Epoch: 11 --- Average cost:  5.8164 --- Val. Accuracy: 19.09% --- Average perplexity:  336.5438\n",
            "Epoch: 12 --- Average cost:  5.7369 --- Val. Accuracy: 19.64% --- Average perplexity:  310.8542\n",
            "Epoch: 13 --- Average cost:  5.6689 --- Val. Accuracy: 19.97% --- Average perplexity:  290.3660\n",
            "Epoch: 14 --- Average cost:  5.6078 --- Val. Accuracy: 20.24% --- Average perplexity:  273.1571\n",
            "Epoch: 15 --- Average cost:  5.5536 --- Val. Accuracy: 20.49% --- Average perplexity:  258.8123\n",
            "Epoch: 16 --- Average cost:  5.5032 --- Val. Accuracy: 20.76% --- Average perplexity:  246.0440\n",
            "Epoch: 17 --- Average cost:  5.4565 --- Val. Accuracy: 20.85% --- Average perplexity:  234.8609\n",
            "Epoch: 18 --- Average cost:  5.4126 --- Val. Accuracy: 21.03% --- Average perplexity:  224.7429\n",
            "Epoch: 19 --- Average cost:  5.3705 --- Val. Accuracy: 21.08% --- Average perplexity:  215.5143\n",
            "Epoch: 20 --- Average cost:  5.3311 --- Val. Accuracy: 21.15% --- Average perplexity:  207.1783\n",
            "Epoch: 21 --- Average cost:  5.2939 --- Val. Accuracy: 21.22% --- Average perplexity:  199.5603\n",
            "Epoch: 22 --- Average cost:  5.2576 --- Val. Accuracy: 21.29% --- Average perplexity:  192.4760\n",
            "Epoch: 23 --- Average cost:  5.2228 --- Val. Accuracy: 21.37% --- Average perplexity:  185.8755\n",
            "Epoch: 24 --- Average cost:  5.1900 --- Val. Accuracy: 21.36% --- Average perplexity:  179.9289\n",
            "Epoch: 25 --- Average cost:  5.1577 --- Val. Accuracy: 21.41% --- Average perplexity:  174.1828\n",
            "Epoch: 26 --- Average cost:  5.1262 --- Val. Accuracy: 21.48% --- Average perplexity:  168.7861\n",
            "Epoch: 27 --- Average cost:  5.0966 --- Val. Accuracy: 21.52% --- Average perplexity:  163.8995\n",
            "Epoch: 28 --- Average cost:  5.0682 --- Val. Accuracy: 21.61% --- Average perplexity:  159.3064\n",
            "Epoch: 29 --- Average cost:  5.0399 --- Val. Accuracy: 21.56% --- Average perplexity:  154.8422\n"
          ]
        },
        {
          "data": {
            "image/png": "[encoded data removed]",
            "text/plain": [
              "<Figure size 640x480 with 1 Axes>"
            ]
          },
          "metadata": {},
          "output_type": "display_data"
        },
        {
          "data": {
            "image/png": "[encoded data removed]",
            "text/plain": [
              "<Figure size 640x480 with 1 Axes>"
            ]
          },
          "metadata": {},
          "output_type": "display_data"
        }
      ],
      "source": [
        "# Call the training function using the model with 5 hidden layers and lr=0.0005\n",
        "loss_function = nn.CrossEntropyLoss()\n",
        "lr = 0.0005\n",
        "epochs = 30\n",
        "optimiser = optim.Adam(model_2.parameters(), lr=lr)\n",
        "val_accuracies, train_losses = train(model_2, epochs, optimiser)\n",
        "# Plot Losses\n",
        "plot_loss(train_losses)\n",
        "# Plot accuracies\n",
        "plot_accuracy(val_accuracies)"
      ],
      "id": "Qyskhwrb3rNP"
    },
    {
      "cell_type": "code",
      "execution_count": null,
      "metadata": {
        "id": "qqbl2GJG3rNU",
        "outputId": "ee256177-550c-4b9b-b376-fb189ed44b8b"
      },
      "outputs": [
        {
          "name": "stdout",
          "output_type": "stream",
          "text": [
            "Epoch: 0 --- Average cost:  7.0495 --- Val. Accuracy: 13.02% --- Average perplexity:  2209.8640\n",
            "Epoch: 1 --- Average cost:  6.4355 --- Val. Accuracy: 14.84% --- Average perplexity:  626.3947\n",
            "Epoch: 2 --- Average cost:  6.1979 --- Val. Accuracy: 16.75% --- Average perplexity:  493.2673\n",
            "Epoch: 3 --- Average cost:  6.0288 --- Val. Accuracy: 17.74% --- Average perplexity:  416.2675\n",
            "Epoch: 4 --- Average cost:  5.9044 --- Val. Accuracy: 18.43% --- Average perplexity:  367.5024\n",
            "Epoch: 5 --- Average cost:  5.8041 --- Val. Accuracy: 19.07% --- Average perplexity:  332.3984\n",
            "Epoch: 6 --- Average cost:  5.7189 --- Val. Accuracy: 19.51% --- Average perplexity:  305.2534\n",
            "Epoch: 7 --- Average cost:  5.6439 --- Val. Accuracy: 20.00% --- Average perplexity:  283.1898\n",
            "Epoch: 8 --- Average cost:  5.5773 --- Val. Accuracy: 20.36% --- Average perplexity:  264.9582\n",
            "Epoch: 9 --- Average cost:  5.5169 --- Val. Accuracy: 20.63% --- Average perplexity:  249.4149\n",
            "Epoch: 10 --- Average cost:  5.4615 --- Val. Accuracy: 20.88% --- Average perplexity:  235.9652\n",
            "Epoch: 11 --- Average cost:  5.4098 --- Val. Accuracy: 21.06% --- Average perplexity:  224.1286\n",
            "Epoch: 12 --- Average cost:  5.3622 --- Val. Accuracy: 21.13% --- Average perplexity:  213.6973\n",
            "Epoch: 13 --- Average cost:  5.3178 --- Val. Accuracy: 21.40% --- Average perplexity:  204.4149\n",
            "Epoch: 14 --- Average cost:  5.2761 --- Val. Accuracy: 21.51% --- Average perplexity:  196.0061\n",
            "Epoch: 15 --- Average cost:  5.2370 --- Val. Accuracy: 21.59% --- Average perplexity:  188.5069\n",
            "Epoch: 16 --- Average cost:  5.1996 --- Val. Accuracy: 21.72% --- Average perplexity:  181.6015\n",
            "Epoch: 17 --- Average cost:  5.1643 --- Val. Accuracy: 21.70% --- Average perplexity:  175.2998\n",
            "Epoch: 18 --- Average cost:  5.1306 --- Val. Accuracy: 21.81% --- Average perplexity:  169.5136\n",
            "Epoch: 19 --- Average cost:  5.0985 --- Val. Accuracy: 21.86% --- Average perplexity:  164.1565\n",
            "Epoch: 20 --- Average cost:  5.0673 --- Val. Accuracy: 21.93% --- Average perplexity:  159.1259\n",
            "Epoch: 21 --- Average cost:  5.0378 --- Val. Accuracy: 22.05% --- Average perplexity:  154.4448\n",
            "Epoch: 22 --- Average cost:  5.0091 --- Val. Accuracy: 22.14% --- Average perplexity:  150.1249\n",
            "Epoch: 23 --- Average cost:  4.9815 --- Val. Accuracy: 22.16% --- Average perplexity:  146.0413\n",
            "Epoch: 24 --- Average cost:  4.9544 --- Val. Accuracy: 22.15% --- Average perplexity:  142.1178\n",
            "Epoch: 25 --- Average cost:  4.9286 --- Val. Accuracy: 22.22% --- Average perplexity:  138.5151\n",
            "Epoch: 26 --- Average cost:  4.9031 --- Val. Accuracy: 22.24% --- Average perplexity:  134.9934\n",
            "Epoch: 27 --- Average cost:  4.8787 --- Val. Accuracy: 22.27% --- Average perplexity:  131.7542\n",
            "Epoch: 28 --- Average cost:  4.8551 --- Val. Accuracy: 22.31% --- Average perplexity:  128.6883\n",
            "Epoch: 29 --- Average cost:  4.8321 --- Val. Accuracy: 22.29% --- Average perplexity:  125.7676\n"
          ]
        },
        {
          "data": {
            "image/png": "[encoded data removed]",
            "text/plain": [
              "<Figure size 640x480 with 1 Axes>"
            ]
          },
          "metadata": {},
          "output_type": "display_data"
        },
        {
          "data": {
            "image/png": "[encoded data removed]",
            "text/plain": [
              "<Figure size 640x480 with 1 Axes>"
            ]
          },
          "metadata": {},
          "output_type": "display_data"
        }
      ],
      "source": [
        "# Call the training function using the model with 1 hidden layer and lr=0.0005\n",
        "loss_function = nn.CrossEntropyLoss()\n",
        "lr = 0.0005\n",
        "epochs = 30\n",
        "optimiser = optim.Adam(model_3.parameters(), lr=lr)\n",
        "val_accuracies, train_losses = train(model_3, epochs, optimiser)\n",
        "# Plot Losses\n",
        "plot_loss(train_losses)\n",
        "# Plot accuracies\n",
        "plot_accuracy(val_accuracies)"
      ],
      "id": "qqbl2GJG3rNU"
    },
    {
      "cell_type": "markdown",
      "id": "CtlIuLj6CCET",
      "metadata": {
        "id": "CtlIuLj6CCET"
      },
      "source": [
        "Although we define a function to compute the accuracy of the model, we consider that this metric is not optimum for this type of problem, because it is not a classification problem, but we computed it just to see how this metric behaves with this problem. For this type of problem we can compute the perplexity metric which is a measure of how well the model predicts a sequence. The disadvantage of this metric is that it has to be compared with other models or other configurations to get an idea of how good is the model predicting the next word in the sequence. So, in order to visualize if the model is improving with every epoch, we computed also the perplexity and we can see how this value decreases with every epoch. We plotted the accuracy values just to see how it behaves in order to compare the use of this metric with the classification model used in a previous activity. By looking at the accuracies plot we can conclude that this metric is not very useful for text generation cases."
      ]
    },
    {
      "cell_type": "markdown",
      "id": "I51JFWlJHO9Z",
      "metadata": {
        "id": "I51JFWlJHO9Z"
      },
      "source": [
        "# Model Evaluation"
      ]
    },
    {
      "cell_type": "markdown",
      "metadata": {
        "id": "HV6m6rRF3rNV"
      },
      "source": [
        "In order to compare the performance of the model with new data, we defined a function to compute the perplexity metric using the test data set. In this case it is only necessary to apply the 'torch.exp' function to the cost value to obtain the perplexity value. This function is very similar to the ones that we utilized previously in other activities, but in this case it is necessary to rearrange the way the elements are organized in order to apply the cross entropy function to the model outputs."
      ],
      "id": "HV6m6rRF3rNV"
    },
    {
      "cell_type": "code",
      "execution_count": null,
      "metadata": {
        "id": "DM5dHdUF3rNV"
      },
      "outputs": [],
      "source": [
        "def calculate_perplexity(model, data_loader):\n",
        "    model.eval() #Set model to evaluation mode\n",
        "    model = model.to(device=device) #Set the device to GPU\n",
        "    perplexity_results = list() #Define list to store perplexity values\n",
        "    with torch.no_grad():\n",
        "        for data, targets in data_loader: #Loop through the data loader to obtain mini batches\n",
        "            xi = data.to(device=device, dtype = torch.long) #Input data as torch tensors using GPU\n",
        "            yi = targets.to(device=device, dtype = torch.long) #Targets as torch tensors using GPU\n",
        "            hidden = model.init_hidden(batch_size=data.size(0)) #Initialize first hidden state\n",
        "            scores, hidden = model(xi, hidden) #Obtain model outputs\n",
        "            scores_reshaped = scores.permute(0,2,1) #Rearrange elements to compute cross_entropy\n",
        "            cost = F.cross_entropy(scores_reshaped, yi)\n",
        "            perplexity = torch.exp(cost) #Compute perplexity using cost value\n",
        "            perplexity_results.append(perplexity) #Append perplexity values\n",
        "    average_perplexity = sum(perplexity_results)/len(perplexity_results)\n",
        "    print(f'The average perplexity for the test data set: {average_perplexity}') #Print perplexity of the data set"
      ],
      "id": "DM5dHdUF3rNV"
    },
    {
      "cell_type": "code",
      "execution_count": null,
      "metadata": {
        "id": "cONzp0Bi3rNV",
        "outputId": "1dcd06e6-4d12-4f0e-d1f4-c9e618d2ad66"
      },
      "outputs": [
        {
          "name": "stdout",
          "output_type": "stream",
          "text": [
            "The average perplexity for the test data set: 402.248779296875\n"
          ]
        }
      ],
      "source": [
        "#Print average perplexity for model with 5 neurons and lr=0.005\n",
        "calculate_perplexity(model_1, test_loader)"
      ],
      "id": "cONzp0Bi3rNV"
    },
    {
      "cell_type": "code",
      "execution_count": null,
      "metadata": {
        "id": "wtCCrWfk3rNV",
        "outputId": "676f94c9-7d17-4928-e916-529a3a9e7568"
      },
      "outputs": [
        {
          "name": "stdout",
          "output_type": "stream",
          "text": [
            "The average perplexity for the test data set: 211.52268981933594\n"
          ]
        }
      ],
      "source": [
        "#Print average perplexity for model with 5 neurons and lr=0.0005\n",
        "calculate_perplexity(model_2, test_loader)"
      ],
      "id": "wtCCrWfk3rNV"
    },
    {
      "cell_type": "code",
      "execution_count": null,
      "metadata": {
        "id": "-6xjADs33rNV",
        "outputId": "3c1b4439-6db6-4857-bd8f-63c0fd05faef"
      },
      "outputs": [
        {
          "name": "stdout",
          "output_type": "stream",
          "text": [
            "The average perplexity for the test data set: 196.14646911621094\n"
          ]
        }
      ],
      "source": [
        "#Print average perplexity for model with 1 neuron and lr=0.0005\n",
        "calculate_perplexity(model_3, test_loader)"
      ],
      "id": "-6xjADs33rNV"
    },
    {
      "cell_type": "markdown",
      "metadata": {
        "id": "zMrxDoOi3rNV"
      },
      "source": [
        "We noticed by looking at the perplexity values using the test data set that there is an important degree of overfitting present in the model, so in order to get a better performance, this problem should be attended.\n",
        "\n",
        "---"
      ],
      "id": "zMrxDoOi3rNV"
    },
    {
      "cell_type": "markdown",
      "id": "-BeJPgWv8qpZ",
      "metadata": {
        "id": "-BeJPgWv8qpZ"
      },
      "source": [
        "This code defines a function named generate_text that uses a trained language model to generate a sequence of words given a starting text. It uses a technique called \"sampling\" to probabilistically select the next word based on the model's predictions.\n",
        "\n",
        "- model.eval(): Puts the model in evaluation mode. This is important because some layers, like dropout, behave differently during training and evaluation.\n",
        "\n",
        "- words = tokeniser(start_text): Tokenizes the starting text into a list of words using the tokenizer defined earlier.\n",
        "\n",
        "- hidden = model.init_hidden(1): Initializes the hidden state of the model for generating text. The batch size is set to 1.\n",
        "\n",
        "The function then enters a loop to generate the specified number of words:\n",
        "\n",
        "- x = torch.tensor([[vocab[word] for word in words[i:]]], dtype=torch.long, device=device): Converts a subsequence of words into a tensor of indices using the vocabulary.\n",
        "\n",
        "- y_pred, hidden = model(x, hidden): Uses the model to predict the next word given the input sequence.\n",
        "\n",
        "- last_word_logits = y_pred[0][-1]: Retrieves the logits (raw scores) for the last word in the predicted sequence.\n",
        "\n",
        "- p = (F.softmax(last_word_logits / temperature, dim=0).detach()).to(device='cpu').numpy(): Applies temperature to the logits to control the randomness of the sampling. Then, it converts the logits to probabilities and detaches the computation graph to prevent backpropagation during sampling.\n",
        "\n",
        "- word_index = np.random.choice(len(last_word_logits), p=p): Samples the next word index based on the probabilities.\n",
        "\n",
        "- words.append(vocab.lookup_token(word_index)): Appends the newly generated word to the list of words.\n",
        "\n",
        "Finally, the function returns the generated text by joining the list of words.\n",
        "\n",
        "- print(generate_text(model, start_text=\"I found a\", num_words=10)): Calls the generate_text function with a starting text and prints the generated sequence of words. The num_words parameter controls the length of the generated text."
      ]
    },
    {
      "cell_type": "markdown",
      "metadata": {
        "id": "Eqgqoz2C3rNV"
      },
      "source": [
        "To test the model we used the model that had a better performance with the test data set, because in the parameters of the function that generates text it is possible to enter a text that is not related to the texts that were used to train the model. So, to generate the text we used the model with 5 hidden layers and a learning rate of 0.0005, because it is the one that presented the smallest difference between perplexity values for training and testing."
      ],
      "id": "Eqgqoz2C3rNV"
    },
    {
      "cell_type": "code",
      "execution_count": null,
      "id": "c8667411",
      "metadata": {
        "colab": {
          "base_uri": "https://localhost:8080/"
        },
        "id": "c8667411",
        "outputId": "741f3483-8590-4a4f-f0b3-314e7c49de9f"
      },
      "outputs": [
        {
          "name": "stdout",
          "output_type": "stream",
          "text": [
            "i found a early neutral charge . small singer <unk> graham @-@ chris who recorded the guitar pop series in all a game\n"
          ]
        }
      ],
      "source": [
        "def generate_text(model, start_text, num_words, temperature=1.0):\n",
        "\n",
        "    model.eval()\n",
        "    words = tokeniser(start_text)\n",
        "    hidden = model.init_hidden(1)\n",
        "    for i in range(0, num_words):\n",
        "        x = torch.tensor([[vocab[word] for word in words[i:]]], dtype=torch.long, device=device)\n",
        "        y_pred, hidden = model(x, hidden)\n",
        "        last_word_logits = y_pred[0][-1]\n",
        "        p = (F.softmax(last_word_logits / temperature, dim=0).detach()).to(device='cpu').numpy()\n",
        "        word_index = np.random.choice(len(last_word_logits), p=p)\n",
        "        words.append(vocab.lookup_token(word_index))\n",
        "\n",
        "    return ' '.join(words)\n",
        "\n",
        "# Generate some text\n",
        "print(generate_text(model_2, start_text=\"I found a\", num_words=20))\n"
      ]
    },
    {
      "cell_type": "code",
      "execution_count": null,
      "id": "KKaLxcgOE8h4",
      "metadata": {
        "colab": {
          "base_uri": "https://localhost:8080/"
        },
        "id": "KKaLxcgOE8h4",
        "outputId": "ee74322a-ace3-4d81-a5b8-a4673fd5c9e4"
      },
      "outputs": [
        {
          "name": "stdout",
          "output_type": "stream",
          "text": [
            "i am in love with neck . gielgud was aimed in brentford to be being replaced by his <unk> . in the video ball ,\n"
          ]
        }
      ],
      "source": [
        "# Generate some text\n",
        "print(generate_text(model_2, start_text=\"I am in love with\", num_words=20))"
      ]
    },
    {
      "cell_type": "code",
      "execution_count": null,
      "metadata": {
        "id": "LfQSgHHO3rNW",
        "outputId": "b10ff37b-4f96-4771-8bcc-f56a371327a5"
      },
      "outputs": [
        {
          "name": "stdout",
          "output_type": "stream",
          "text": [
            "deep learning is displayed in various status such as secondary processes and <unk> , black , julien long , <unk> . = =\n"
          ]
        }
      ],
      "source": [
        "# Generate some text\n",
        "print(generate_text(model_2, start_text=\"Deep learning is\", num_words=20))"
      ],
      "id": "LfQSgHHO3rNW"
    },
    {
      "cell_type": "code",
      "execution_count": null,
      "id": "BfLY6g--6Gil",
      "metadata": {
        "colab": {
          "base_uri": "https://localhost:8080/"
        },
        "id": "BfLY6g--6Gil",
        "outputId": "5ecaadd3-bf95-4068-9c26-6e41418480ec"
      },
      "outputs": [
        {
          "name": "stdout",
          "output_type": "stream",
          "text": [
            "super mario land outweighed their opposition to her full @-@ open conversion that contained now a hip states @-@ five <unk> up in\n"
          ]
        }
      ],
      "source": [
        "# Generate some text\n",
        "print(generate_text(model_2, start_text=\"Super Mario Land\", num_words=20))"
      ]
    },
    {
      "cell_type": "markdown",
      "id": "LvPigfuAHSeN",
      "metadata": {
        "id": "LvPigfuAHSeN"
      },
      "source": [
        "# Conclusions"
      ]
    },
    {
      "cell_type": "markdown",
      "id": "eBIMkGhO9rMf",
      "metadata": {
        "id": "eBIMkGhO9rMf"
      },
      "source": [
        "What we learn:\n",
        "- The number of LSTM Layers: we need to start with small number of layers (1 or 2) and increase your way up. Althouhg increasing the number of layers may capture more complex patterns, it requires more time and computational power. It may not be needed.\n",
        "- The size of the batch: THe larger the batch, the faster it converges. But it will require more memory and computational power as well.\n",
        "- Number of Epochs: The number of epochs deternime how many times the model goes through the entire trainig dataset. We need to monitor the performance curver (training and validation) in order to get the best model's performance.\n",
        "- In this case, the Temperature: this parameter will control the randomness of the generated text. The bigger the more \"diverse\", but may result in a non coherent text. Lower values produce a more \"focused\" text.\n",
        "- Learning Rate: As always is a very important parameter. A general good starting point will be in the range of  0.001 to 0.01. And as Always, experimenting with it is recommended to increase the performance of the model.\n",
        "\n",
        "In this notebook, we compared three models: one with 5 hidden layers in the LSTM layer, another with only 1 layer in the LSTM, and a third identical to the 5 hidden layers model but with a larger learning rate. We conducted this comparison to test the performance of these models using the perplexity metric. Comparing the generated texts proved challenging as they did not make much sense.\n",
        "\n",
        "When comparing models with different learning rates, we observed that using a lower learning rate resulted in better performance with the test set. Despite the perplexity metric and cost being lower during training, a lower learning rate helps avoid local minima, allowing the model to generalize better for new data.\n",
        "\n",
        "In the comparison of models with different numbers of hidden layers in the LSTM layer, we noticed that the model with more hidden layers took longer to train but performed better with the test set. Although complexity increased, the training time did not escalate significantly. Therefore, increasing the number of hidden layers appears to be a beneficial solution for enhancing the model's performance and generalization.\n",
        "\n",
        "One of the main differences between this model and the one used for the classification task of different news is that the accuracy metric is no longer useful. This is because the model's output is a vector representing the probability that a word appears after another word. Consequently, in this notebook, we proposed the perplexity metric to measure the model's performance and ensure that training improves its ability to predict subsequent words.\n",
        "\n",
        "Ultimately, the perplexity metric helped us verify the model's improvement with each training epoch, as evidenced by the decreasing perplexity value. It also enabled us to compare models and identify which one had the best performance.\n"
      ]
    }
  ],
  "metadata": {
    "accelerator": "GPU",
    "colab": {
      "provenance": [],
      "include_colab_link": true
    },
    "kernelspec": {
      "display_name": "Python 3",
      "name": "python3"
    },
    "language_info": {
      "codemirror_mode": {
        "name": "ipython",
        "version": 3
      },
      "file_extension": ".py",
      "mimetype": "text/x-python",
      "name": "python",
      "nbconvert_exporter": "python",
      "pygments_lexer": "ipython3",
      "version": "3.10.0"
    },
    "varInspector": {
      "cols": {
        "lenName": 16,
        "lenType": 16,
        "lenVar": 40
      },
      "kernels_config": {
        "python": {
          "delete_cmd_postfix": "",
          "delete_cmd_prefix": "del ",
          "library": "var_list.py",
          "varRefreshCmd": "print(var_dic_list())"
        },
        "r": {
          "delete_cmd_postfix": ") ",
          "delete_cmd_prefix": "rm(",
          "library": "var_list.r",
          "varRefreshCmd": "cat(var_dic_list()) "
        }
      },
      "types_to_exclude": [
        "module",
        "function",
        "builtin_function_or_method",
        "instance",
        "_Feature"
      ],
      "window_display": false
    }
  },
  "nbformat": 4,
  "nbformat_minor": 5
}