{
  "cells": [
    {
      "cell_type": "markdown",
      "metadata": {
        "id": "view-in-github",
        "colab_type": "text"
      },
      "source": [
        "<a href=\"https://colab.research.google.com/github/murasakiw/ML2/blob/main/A4_DL_TC5033_text_generator.ipynb\" target=\"_parent\"><img src=\"https://colab.research.google.com/assets/colab-badge.svg\" alt=\"Open In Colab\"/></a>"
      ]
    },
    {
      "cell_type": "markdown",
      "metadata": {
        "id": "037e89c8"
      },
      "source": [
        "## TC 5033\n",
        "### Text Generation\n",
        "\n",
        "<br>\n",
        "\n",
        "#### Activity 4: Building a Simple LSTM Text Generator using WikiText-2\n",
        "<br>\n",
        "\n",
        "### Team 15\n",
        "- Héctor Raúl Vázquez González - A00565542\n",
        "- Ronald David Zuniga Sánchez - A01686240\n",
        "- Sergio Omar Esparza Hernández - A01794338\n",
        "- Hugo Enrique Solano Ortega - A01794456\n",
        "\n",
        "\n",
        "\n",
        "Objective:\n",
        "  - Gain a fundamental understanding of Long Short-Term Memory (LSTM) networks.\n",
        "  - Develop hands-on experience with sequence data processing and text generation in PyTorch. Given the simplicity of the model, amount of data, and computer resources, the text you generate will not replace ChatGPT, and results must likely will not make a lot of sense. Its only purpose is academic and to understand the text generation using RNNs.\n",
        "  - Enhance code comprehension and documentation skills by commenting on provided starter code.\n",
        "    \n",
        "<br>\n",
        "\n",
        "Instructions:\n",
        "  - Code Understanding: Begin by thoroughly reading and understanding the code. Comment each section/block of the provided code to demonstrate your understanding. For this, you are encouraged to add cells with experiments to improve your understanding\n",
        "\n",
        "  - Model Overview: The starter code includes an LSTM model setup for sequence data processing. Familiarize yourself with the model architecture and its components. Once you are familiar with the provided model, feel free to change the model to experiment.\n",
        "\n",
        "  - Training Function: Implement a function to train the LSTM model on the WikiText-2 dataset. This function should feed the training data into the model and perform backpropagation.\n",
        "\n",
        "  - Text Generation Function: Create a function that accepts starting text (seed text) and a specified total number of words to generate. The function should use the trained model to generate a continuation of the input text.\n",
        "\n",
        "  - Code Commenting: Ensure that all the provided starter code is well-commented. Explain the purpose and functionality of each section, indicating your understanding.\n",
        "\n",
        "  - Submission: Submit your Jupyter Notebook with all sections completed and commented. Include a markdown cell with the full names of all contributing team members at the beginning of the notebook.\n",
        "    \n",
        "<br>\n",
        "\n",
        "- Evaluation Criteria:\n",
        "    - Code Commenting (60%): The clarity, accuracy, and thoroughness of comments explaining the provided code. You are suggested to use markdown cells for your explanations.\n",
        "\n",
        "    - Training Function Implementation (20%): The correct implementation of the training function, which should effectively train the model.\n",
        "\n",
        "    - Text Generation Functionality (10%): A working function is provided in comments. You are free to use it as long as you make sure to uderstand it, you may as well improve it as you see fit. The minimum expected is to provide comments for the given function.\n",
        "\n",
        "    - Conclusions (10%): Provide some final remarks specifying the differences you notice between this model and the one used  for classification tasks. Also comment on changes you made to the model, hyperparameters, and any other information you consider relevant. Also, please provide 3 examples of generated texts.\n",
        "\n"
      ],
      "id": "037e89c8"
    },
    {
      "cell_type": "markdown",
      "source": [
        "# Code Setup and Data Preparation"
      ],
      "metadata": {
        "id": "PdmBCkILGSYl"
      },
      "id": "PdmBCkILGSYl"
    },
    {
      "cell_type": "code",
      "execution_count": null,
      "metadata": {
        "id": "3eb4b117"
      },
      "outputs": [],
      "source": [
        "#General Data Wrangling Libraries\n",
        "import numpy as np\n",
        "import matplotlib.pyplot as plt\n",
        "#PyTorch libraries\n",
        "import torch\n",
        "import torchtext\n",
        "from torchtext.datasets import WikiText2\n",
        "# Dataloader library\n",
        "from torch.utils.data import DataLoader, TensorDataset\n",
        "from torch.utils.data.dataset import random_split\n",
        "# Libraries to prepare the data\n",
        "from torchtext.data.utils import get_tokenizer\n",
        "from torchtext.vocab import build_vocab_from_iterator\n",
        "from torchtext.data.functional import to_map_style_dataset\n",
        "# neural layers\n",
        "from torch import nn\n",
        "from torch.nn import functional as F\n",
        "import torch.optim as optim\n",
        "from tqdm import tqdm\n",
        "\n",
        "import random"
      ],
      "id": "3eb4b117"
    },
    {
      "cell_type": "code",
      "execution_count": null,
      "metadata": {
        "id": "PguCallJJQvJ"
      },
      "outputs": [],
      "source": [
        "#pip install portalocker>=2.0.0"
      ],
      "id": "PguCallJJQvJ"
    },
    {
      "cell_type": "code",
      "execution_count": null,
      "metadata": {
        "colab": {
          "base_uri": "https://localhost:8080/"
        },
        "id": "6d8ff971",
        "outputId": "7c569332-5339-4b5d-cc3e-c007190be64c"
      },
      "outputs": [
        {
          "output_type": "stream",
          "name": "stdout",
          "text": [
            "cuda\n"
          ]
        }
      ],
      "source": [
        "device = 'cuda' if torch.cuda.is_available() else 'cpu'\n",
        "print(device)"
      ],
      "id": "6d8ff971"
    },
    {
      "cell_type": "markdown",
      "source": [
        "WikiText-2 Dataset consists of a collection of Wikipedia articles with over 100 million tokens that include words, subwords, and characters."
      ],
      "metadata": {
        "id": "kyxYfCiQ_DR0"
      },
      "id": "kyxYfCiQ_DR0"
    },
    {
      "cell_type": "code",
      "execution_count": null,
      "metadata": {
        "id": "f3288ce5"
      },
      "outputs": [],
      "source": [
        "train_dataset, val_dataset, test_dataset = WikiText2()"
      ],
      "id": "f3288ce5"
    },
    {
      "cell_type": "markdown",
      "source": [
        "Basic english tokenizer is used to build a vocabulary setting rules for special tokens."
      ],
      "metadata": {
        "id": "YHuU6dHF_xSc"
      },
      "id": "YHuU6dHF_xSc"
    },
    {
      "cell_type": "code",
      "execution_count": null,
      "metadata": {
        "id": "fc4c7dbd"
      },
      "outputs": [],
      "source": [
        "tokeniser = get_tokenizer('basic_english')\n",
        "def yield_tokens(data):\n",
        "    for text in data:\n",
        "        yield tokeniser(text)"
      ],
      "id": "fc4c7dbd"
    },
    {
      "cell_type": "markdown",
      "source": [
        "Special tokens are defined as follows:\n",
        "*  unk (unknown)\n",
        "*  pad (padding)\n",
        "*  bos (beginning of sequence)\n",
        "*  eos (end of sequence)."
      ],
      "metadata": {
        "id": "MSrVRvhyACIs"
      },
      "id": "MSrVRvhyACIs"
    },
    {
      "cell_type": "code",
      "execution_count": null,
      "metadata": {
        "id": "2c2cb068"
      },
      "outputs": [],
      "source": [
        "# Build the vocabulary\n",
        "vocab = build_vocab_from_iterator(yield_tokens(train_dataset), specials=[\"<unk>\", \"<pad>\", \"<bos>\", \"<eos>\"])\n",
        "#set unknown token at position 0\n",
        "vocab.set_default_index(vocab[\"<unk>\"])"
      ],
      "id": "2c2cb068"
    },
    {
      "cell_type": "markdown",
      "source": [
        "A function is defined  to process raw text data into input-output pairs set for training.\n",
        "\n",
        "The function tokenizes the text then converts the tokens to indices using the vocabulary, and creates sequences of a specified length.\n",
        "\n",
        "The resulting data is then split into input (x) and target (y) tensors."
      ],
      "metadata": {
        "id": "553ra0SBAfNg"
      },
      "id": "553ra0SBAfNg"
    },
    {
      "cell_type": "code",
      "execution_count": null,
      "metadata": {
        "id": "134b832b"
      },
      "outputs": [],
      "source": [
        "seq_length = 50\n",
        "def data_process(raw_text_iter, seq_length = 50):\n",
        "    data = [torch.tensor(vocab(tokeniser(item)), dtype=torch.long) for item in raw_text_iter]\n",
        "    data = torch.cat(tuple(filter(lambda t: t.numel() > 0, data))) #remove empty tensors\n",
        "#     target_data = torch.cat(d)\n",
        "    return (data[:-(data.size(0)%seq_length)].view(-1, seq_length),\n",
        "            data[1:-(data.size(0)%seq_length-1)].view(-1, seq_length))\n",
        "\n",
        "# # Create tensors for the training set\n",
        "x_train, y_train = data_process(train_dataset, seq_length)\n",
        "x_val, y_val = data_process(val_dataset, seq_length)\n",
        "x_test, y_test = data_process(test_dataset, seq_length)"
      ],
      "id": "134b832b"
    },
    {
      "cell_type": "markdown",
      "source": [
        "Tensors are created to prepare the dataset for training by converting the split Train, Val, and Test tokens."
      ],
      "metadata": {
        "id": "HuOczwbxA15A"
      },
      "id": "HuOczwbxA15A"
    },
    {
      "cell_type": "code",
      "execution_count": null,
      "metadata": {
        "id": "4b54c04d"
      },
      "outputs": [],
      "source": [
        "train_dataset = TensorDataset(x_train, y_train)\n",
        "val_dataset = TensorDataset(x_val, y_val)\n",
        "test_dataset = TensorDataset(x_test, y_test)"
      ],
      "id": "4b54c04d"
    },
    {
      "cell_type": "markdown",
      "source": [
        "Pytorch Dataloader is used to create the corresponding training, validation, and test dataset batches."
      ],
      "metadata": {
        "id": "8iZ3zsvDBPR7"
      },
      "id": "8iZ3zsvDBPR7"
    },
    {
      "cell_type": "code",
      "execution_count": null,
      "metadata": {
        "id": "f4d400fb"
      },
      "outputs": [],
      "source": [
        "batch_size = 64  # choose a batch size that fits your computation resources\n",
        "train_loader = DataLoader(train_dataset, batch_size=batch_size, shuffle=True, drop_last=True)\n",
        "val_loader = DataLoader(val_dataset, batch_size=batch_size, shuffle=True, drop_last=True)\n",
        "test_loader = DataLoader(test_dataset, batch_size=batch_size, shuffle=True, drop_last=True)"
      ],
      "id": "f4d400fb"
    },
    {
      "cell_type": "markdown",
      "source": [
        "# Model Preparation"
      ],
      "metadata": {
        "id": "3hFCvxCjG-9S"
      },
      "id": "3hFCvxCjG-9S"
    },
    {
      "cell_type": "markdown",
      "source": [
        "The LSTM model is defined with a standard architecture consisting of an embedding layer, an LSTM layer, and a linear layer using a forward method to process the input sequences through the layers."
      ],
      "metadata": {
        "id": "Cy3STJyiCBKI"
      },
      "id": "Cy3STJyiCBKI"
    },
    {
      "cell_type": "code",
      "execution_count": null,
      "metadata": {
        "id": "59c63b01"
      },
      "outputs": [],
      "source": [
        "# Define the LSTM model\n",
        "# Feel free to experiment\n",
        "class LSTMModel(nn.Module):\n",
        "    def __init__(self, vocab_size, embed_size, hidden_size, num_layers):\n",
        "        super(LSTMModel, self).__init__()\n",
        "        self.embeddings = nn.Embedding(vocab_size, embed_size)\n",
        "        self.hidden_size = hidden_size\n",
        "        self.num_layers = num_layers\n",
        "        self.lstm = nn.LSTM(embed_size, hidden_size, num_layers, batch_first=True)\n",
        "        self.fc = nn.Linear(hidden_size, vocab_size)\n",
        "\n",
        "    def forward(self, text, hidden):\n",
        "        embeddings = self.embeddings(text)\n",
        "        output, hidden = self.lstm(embeddings, hidden)\n",
        "        decoded = self.fc(output)\n",
        "        return decoded, hidden\n",
        "\n",
        "    def init_hidden(self, batch_size):\n",
        "\n",
        "        return (torch.zeros(self.num_layers, batch_size, self.hidden_size).to(device),\n",
        "                torch.zeros(self.num_layers, batch_size, self.hidden_size).to(device))\n",
        "\n",
        "\n",
        "\n",
        "vocab_size = len(vocab) # vocabulary size\n",
        "emb_size = 100 # embedding size\n",
        "neurons = 128 # the dimension of the feedforward network model, i.e. # of neurons\n",
        "num_layers = 5 # the number of nn.LSTM layers\n",
        "model = LSTMModel(vocab_size, emb_size, neurons, num_layers)\n"
      ],
      "id": "59c63b01"
    },
    {
      "cell_type": "code",
      "execution_count": null,
      "metadata": {
        "colab": {
          "base_uri": "https://localhost:8080/",
          "height": 157
        },
        "id": "R-tE8o6R16GS",
        "outputId": "95aace47-ba75-4ffc-ed14-623c7a4cc357"
      },
      "outputs": [
        {
          "output_type": "execute_result",
          "data": {
            "text/plain": [
              "\"\\nThe following are possible instructions you may want to conside for this function.\\nThis is only a guide and you may change add or remove whatever you consider appropriate\\nas long as you train your model correctly.\\n    - loop through specified epochs\\n    - loop through dataloader\\n    - don't forget to zero grad!\\n    - place data (both input and target) in device\\n    - init hidden states e.g. hidden = model.init_hidden(batch_size)\\n    - run the model\\n    - compute the cost or loss\\n    - backpropagation\\n    - Update paratemers\\n    - Include print all the information you consider helpful\\n\\n\""
            ],
            "application/vnd.google.colaboratory.intrinsic+json": {
              "type": "string"
            }
          },
          "metadata": {},
          "execution_count": 11
        }
      ],
      "source": [
        "    '''\n",
        "    The following are possible instructions you may want to conside for this function.\n",
        "    This is only a guide and you may change add or remove whatever you consider appropriate\n",
        "    as long as you train your model correctly.\n",
        "        - loop through specified epochs\n",
        "        - loop through dataloader\n",
        "        - don't forget to zero grad!\n",
        "        - place data (both input and target) in device\n",
        "        - init hidden states e.g. hidden = model.init_hidden(batch_size)\n",
        "        - run the model\n",
        "        - compute the cost or loss\n",
        "        - backpropagation\n",
        "        - Update paratemers\n",
        "        - Include print all the information you consider helpful\n",
        "\n",
        "    '''"
      ],
      "id": "R-tE8o6R16GS"
    },
    {
      "cell_type": "markdown",
      "source": [
        "Definition of a plot function to visuialize training loss over each epoch."
      ],
      "metadata": {
        "id": "SAmgGznoDAS1"
      },
      "id": "SAmgGznoDAS1"
    },
    {
      "cell_type": "code",
      "source": [
        "def calculate_accuracy(model, data_loader):\n",
        "    model.eval()\n",
        "    correct = 0\n",
        "    total = 0\n",
        "    with torch.no_grad():\n",
        "        for data, targets in data_loader:\n",
        "            xi = data.to(device=device, dtype=torch.long)\n",
        "            yi = targets.to(device=device, dtype=torch.long)\n",
        "\n",
        "            hidden = model.init_hidden(batch_size=data.size(0))\n",
        "            scores, hidden = model(xi, hidden)\n",
        "            predicted_labels = torch.argmax(scores, dim=2)\n",
        "            correct += (predicted_labels == yi).sum().item()\n",
        "            total += yi.numel()\n",
        "\n",
        "    accuracy = correct / total\n",
        "    return accuracy"
      ],
      "metadata": {
        "id": "WOVJSZagDYqC"
      },
      "id": "WOVJSZagDYqC",
      "execution_count": null,
      "outputs": []
    },
    {
      "cell_type": "code",
      "source": [
        "def plot_loss(train_losses):\n",
        "    plt.plot(train_losses, label='Training Loss')\n",
        "    plt.xlabel('Epochs')\n",
        "    plt.ylabel('Loss')\n",
        "    plt.title('Training Loss Over Epochs')\n",
        "    plt.legend()\n",
        "    plt.show()"
      ],
      "metadata": {
        "id": "NUSM--X89Vd0"
      },
      "id": "NUSM--X89Vd0",
      "execution_count": null,
      "outputs": []
    },
    {
      "cell_type": "code",
      "source": [
        "def plot_accuracy(val_accuracies):\n",
        "    plt.plot(val_accuracies, label='Validation Accuracy', color='green')\n",
        "    plt.xlabel('Epochs')\n",
        "    plt.ylabel('Accuracy')\n",
        "    plt.title('Validation Accuracy Over Epochs')\n",
        "    plt.legend()\n",
        "\n",
        "    plt.tight_layout()\n",
        "    plt.show()"
      ],
      "metadata": {
        "id": "HVvpQJsfFKWq"
      },
      "id": "HVvpQJsfFKWq",
      "execution_count": null,
      "outputs": []
    },
    {
      "cell_type": "code",
      "execution_count": null,
      "metadata": {
        "id": "215eabb9"
      },
      "outputs": [],
      "source": [
        "train_losses=list() #Define list to store the training losses\n",
        "val_accuracies = list() #Define list to store the validation accuracies\n",
        "\n",
        "def train(model, epochs, optimiser):\n",
        "\n",
        "    model = model.to(device=device) #Set the device to use GPU\n",
        "    total_cost = 0\n",
        "    val_cost = 0\n",
        "\n",
        "    for epoch in range(epochs):\n",
        "        total_cost = 0\n",
        "        model.train()\n",
        "        for data, targets in train_loader:\n",
        "            # TO COMPLETE\n",
        "            xi = data.to(device=device, dtype = torch.long) #Input data as torch tensors using GPU\n",
        "            yi = targets.to(device=device, dtype = torch.long) #Labels / tokens as torch tensors using GPU\n",
        "\n",
        "            hidden = model.init_hidden(batch_size=data.size(0))\n",
        "            optimiser.zero_grad()\n",
        "            scores, hidden = model(xi, hidden) #Obtain the ouput of the model\n",
        "            scores_reshaped = scores.permute(0,2,1) #Obtain the ouput of the model\n",
        "            cost = F.cross_entropy(scores_reshaped, yi) #Apply the cross_entropy function to calculate the cost\n",
        "\n",
        "            cost.backward() #Calculate gradients with respect to all parameters of the model\n",
        "            optimiser.step() #Update parameters considering the defined optimiser\n",
        "            total_cost+=cost.item()\n",
        "\n",
        "        #Obtain the training and validation accuracies\n",
        "        average_cost = total_cost/len(train_loader)\n",
        "\n",
        "        #Record list of training losses\n",
        "        train_losses.append(average_cost)\n",
        "\n",
        "        # Calculate model accuracy\n",
        "        val_accuracy = calculate_accuracy(model, val_loader)\n",
        "        val_accuracies.append(val_accuracy)\n",
        "\n",
        "        print(f'Epoch: {epoch} --- Average cost: {average_cost: .4f} --- Validation Accuracy: {val_accuracy * 100:.2f}%')\n"
      ],
      "id": "215eabb9"
    },
    {
      "cell_type": "markdown",
      "source": [
        "# Model Training"
      ],
      "metadata": {
        "id": "rOUoi8mwHFDV"
      },
      "id": "rOUoi8mwHFDV"
    },
    {
      "cell_type": "code",
      "execution_count": null,
      "metadata": {
        "colab": {
          "base_uri": "https://localhost:8080/"
        },
        "id": "aa9c84ce",
        "outputId": "a5c2ef89-695c-461a-eeb5-cb1ef56fce08"
      },
      "outputs": [
        {
          "output_type": "stream",
          "name": "stdout",
          "text": [
            "Epoch: 0 --- Average cost:  4.4512 --- Validation Accuracy: 22.36%\n",
            "Epoch: 1 --- Average cost:  4.3478 --- Validation Accuracy: 22.41%\n",
            "Epoch: 2 --- Average cost:  4.3015 --- Validation Accuracy: 22.37%\n",
            "Epoch: 3 --- Average cost:  4.2660 --- Validation Accuracy: 22.38%\n",
            "Epoch: 4 --- Average cost:  4.2319 --- Validation Accuracy: 22.21%\n",
            "Epoch: 5 --- Average cost:  4.2027 --- Validation Accuracy: 22.20%\n",
            "Epoch: 6 --- Average cost:  4.1759 --- Validation Accuracy: 22.17%\n",
            "Epoch: 7 --- Average cost:  4.1522 --- Validation Accuracy: 22.28%\n",
            "Epoch: 8 --- Average cost:  4.1283 --- Validation Accuracy: 22.18%\n",
            "Epoch: 9 --- Average cost:  4.1080 --- Validation Accuracy: 22.14%\n",
            "Epoch: 10 --- Average cost:  4.0882 --- Validation Accuracy: 22.04%\n",
            "Epoch: 11 --- Average cost:  4.0716 --- Validation Accuracy: 22.14%\n",
            "Epoch: 12 --- Average cost:  4.0542 --- Validation Accuracy: 22.13%\n",
            "Epoch: 13 --- Average cost:  4.0374 --- Validation Accuracy: 21.94%\n",
            "Epoch: 14 --- Average cost:  4.0271 --- Validation Accuracy: 22.09%\n",
            "Epoch: 15 --- Average cost:  4.0081 --- Validation Accuracy: 22.00%\n",
            "Epoch: 16 --- Average cost:  3.9936 --- Validation Accuracy: 22.00%\n",
            "Epoch: 17 --- Average cost:  3.9806 --- Validation Accuracy: 21.78%\n",
            "Epoch: 18 --- Average cost:  3.9705 --- Validation Accuracy: 21.85%\n",
            "Epoch: 19 --- Average cost:  3.9600 --- Validation Accuracy: 21.82%\n",
            "Epoch: 20 --- Average cost:  3.9455 --- Validation Accuracy: 21.83%\n",
            "Epoch: 21 --- Average cost:  3.9374 --- Validation Accuracy: 21.69%\n",
            "Epoch: 22 --- Average cost:  3.9269 --- Validation Accuracy: 21.94%\n",
            "Epoch: 23 --- Average cost:  3.9163 --- Validation Accuracy: 21.69%\n",
            "Epoch: 24 --- Average cost:  3.9067 --- Validation Accuracy: 21.79%\n",
            "Epoch: 25 --- Average cost:  3.9000 --- Validation Accuracy: 21.81%\n",
            "Epoch: 26 --- Average cost:  3.8931 --- Validation Accuracy: 21.52%\n",
            "Epoch: 27 --- Average cost:  3.8838 --- Validation Accuracy: 21.75%\n",
            "Epoch: 28 --- Average cost:  3.8785 --- Validation Accuracy: 21.71%\n",
            "Epoch: 29 --- Average cost:  3.8672 --- Validation Accuracy: 21.77%\n"
          ]
        }
      ],
      "source": [
        "# Call the train function\n",
        "loss_function = nn.CrossEntropyLoss()\n",
        "lr = 0.005\n",
        "epochs = 30\n",
        "optimiser = optim.Adam(model.parameters(), lr=lr)\n",
        "train(model, epochs, optimiser)"
      ],
      "id": "aa9c84ce"
    },
    {
      "cell_type": "markdown",
      "source": [
        "# Model Evaluation"
      ],
      "metadata": {
        "id": "I51JFWlJHO9Z"
      },
      "id": "I51JFWlJHO9Z"
    },
    {
      "cell_type": "code",
      "source": [
        "# Plot Losses\n",
        "plot_loss(train_losses)"
      ],
      "metadata": {
        "colab": {
          "base_uri": "https://localhost:8080/",
          "height": 472
        },
        "id": "8TvykfcL-tWT",
        "outputId": "217380cc-bafa-43ca-af75-c8af739c68a9"
      },
      "id": "8TvykfcL-tWT",
      "execution_count": null,
      "outputs": [
        {
          "output_type": "display_data",
          "data": {
            "text/plain": [
              "<Figure size 640x480 with 1 Axes>"
            ],
            "image/png": "[encoded data removed]"
          },
          "metadata": {}
        }
      ]
    },
    {
      "cell_type": "code",
      "source": [
        "# Plot accuracies\n",
        "plot_accuracy(val_accuracies)"
      ],
      "metadata": {
        "colab": {
          "base_uri": "https://localhost:8080/",
          "height": 487
        },
        "id": "neSU2hdRDjED",
        "outputId": "3b959ef6-cb37-43cd-d94b-07c9701d2e0a"
      },
      "id": "neSU2hdRDjED",
      "execution_count": null,
      "outputs": [
        {
          "output_type": "display_data",
          "data": {
            "text/plain": [
              "<Figure size 640x480 with 1 Axes>"
            ],
            "image/png": "[encoded data removed]"
          },
          "metadata": {}
        }
      ]
    },
    {
      "cell_type": "code",
      "execution_count": null,
      "metadata": {
        "colab": {
          "base_uri": "https://localhost:8080/"
        },
        "id": "c8667411",
        "outputId": "741f3483-8590-4a4f-f0b3-314e7c49de9f"
      },
      "outputs": [
        {
          "output_type": "stream",
          "name": "stdout",
          "text": [
            "i found a robot ! , with trulli , fiestas and roofs .\n"
          ]
        }
      ],
      "source": [
        "def generate_text(model, start_text, num_words, temperature=1.0):\n",
        "\n",
        "    model.eval()\n",
        "    words = tokeniser(start_text)\n",
        "    hidden = model.init_hidden(1)\n",
        "    for i in range(0, num_words):\n",
        "        x = torch.tensor([[vocab[word] for word in words[i:]]], dtype=torch.long, device=device)\n",
        "        y_pred, hidden = model(x, hidden)\n",
        "        last_word_logits = y_pred[0][-1]\n",
        "        p = (F.softmax(last_word_logits / temperature, dim=0).detach()).to(device='cpu').numpy()\n",
        "        word_index = np.random.choice(len(last_word_logits), p=p)\n",
        "        words.append(vocab.lookup_token(word_index))\n",
        "\n",
        "    return ' '.join(words)\n",
        "\n",
        "# Generate some text\n",
        "print(generate_text(model, start_text=\"I found a\", num_words=10))\n"
      ],
      "id": "c8667411"
    },
    {
      "cell_type": "code",
      "execution_count": null,
      "metadata": {
        "colab": {
          "base_uri": "https://localhost:8080/"
        },
        "id": "KKaLxcgOE8h4",
        "outputId": "ee74322a-ace3-4d81-a5b8-a4673fd5c9e4"
      },
      "outputs": [
        {
          "output_type": "stream",
          "name": "stdout",
          "text": [
            "i am in love with perhaps me . the song features a bassline ' name\n"
          ]
        }
      ],
      "source": [
        "# Generate some text\n",
        "print(generate_text(model, start_text=\"I am in love with\", num_words=10))"
      ],
      "id": "KKaLxcgOE8h4"
    },
    {
      "cell_type": "code",
      "execution_count": null,
      "metadata": {
        "colab": {
          "base_uri": "https://localhost:8080/"
        },
        "id": "BfLY6g--6Gil",
        "outputId": "6129badb-7cd5-48ff-8a7a-c18c83de86f4"
      },
      "outputs": [
        {
          "output_type": "stream",
          "name": "stdout",
          "text": [
            "super mario land have also altered as the voice of raphael storytelling —\n"
          ]
        }
      ],
      "source": [
        "# Generate some text\n",
        "print(generate_text(model, start_text=\"Super Mario Land\", num_words=10))"
      ],
      "id": "BfLY6g--6Gil"
    },
    {
      "cell_type": "markdown",
      "source": [
        "# Conclusions"
      ],
      "metadata": {
        "id": "LvPigfuAHSeN"
      },
      "id": "LvPigfuAHSeN"
    }
  ],
  "metadata": {
    "accelerator": "GPU",
    "colab": {
      "provenance": [],
      "include_colab_link": true
    },
    "kernelspec": {
      "display_name": "Python 3",
      "name": "python3"
    },
    "language_info": {
      "codemirror_mode": {
        "name": "ipython",
        "version": 3
      },
      "file_extension": ".py",
      "mimetype": "text/x-python",
      "name": "python",
      "nbconvert_exporter": "python",
      "pygments_lexer": "ipython3",
      "version": "3.10.0"
    },
    "varInspector": {
      "cols": {
        "lenName": 16,
        "lenType": 16,
        "lenVar": 40
      },
      "kernels_config": {
        "python": {
          "delete_cmd_postfix": "",
          "delete_cmd_prefix": "del ",
          "library": "var_list.py",
          "varRefreshCmd": "print(var_dic_list())"
        },
        "r": {
          "delete_cmd_postfix": ") ",
          "delete_cmd_prefix": "rm(",
          "library": "var_list.r",
          "varRefreshCmd": "cat(var_dic_list()) "
        }
      },
      "types_to_exclude": [
        "module",
        "function",
        "builtin_function_or_method",
        "instance",
        "_Feature"
      ],
      "window_display": false
    }
  },
  "nbformat": 4,
  "nbformat_minor": 5
}